{
  "nbformat": 4,
  "nbformat_minor": 0,
  "metadata": {
    "colab": {
      "provenance": [],
      "include_colab_link": true
    },
    "kernelspec": {
      "name": "python3",
      "display_name": "Python 3"
    },
    "language_info": {
      "name": "python"
    }
  },
  "cells": [
    {
      "cell_type": "markdown",
      "metadata": {
        "id": "view-in-github",
        "colab_type": "text"
      },
      "source": [
        "<a href=\"https://colab.research.google.com/github/Becky-Solange/Covid-19-Dashboard/blob/main/TEAM23__HOUSING_PREDICTION_ANALYSIS.ipynb\" target=\"_parent\"><img src=\"https://colab.research.google.com/assets/colab-badge.svg\" alt=\"Open In Colab\"/></a>"
      ]
    },
    {
      "cell_type": "markdown",
      "source": [
        "![images HOUSE.jpg](data:image/jpeg;base64,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)"
      ],
      "metadata": {
        "id": "PMpYFg_x3cip"
      }
    },
    {
      "cell_type": "markdown",
      "source": [
        "># **INTRODUCTION:**\n",
        "House price prediction can help the analyst determine the selling price of a house and can help the customer to arrange the right time to purchase a house. Housing prices keep changing day in and day out and sometimes are hyped rather than being based on valuation.There are three factors that influence the price of a house which include **physical conditions**, **concept** and **location**.\n"
      ],
      "metadata": {
        "id": "M4PveYn31gqw"
      }
    },
    {
      "cell_type": "markdown",
      "source": [
        "#**About Dataset**\n",
        "This dataset provides comprehensive information for house price prediction, with 13 column names:\n",
        "\n",
        "**Price**: bold text The price of the house.\n",
        "**Area:** The total area of the house in square feet.\n",
        "**Bedrooms:** The number of bedrooms in the house.\n",
        "**Bathrooms:** The number of bathrooms in the house.\n",
        "**Stories:** The number of stories in the house.\n",
        "**Mainroad:** Whether the house is connected to the main road (Yes/No).\n",
        "**Guestroom:** Whether the house has a guest room (Yes/No).\n",
        "**Basement:** Whether the house has a basement (Yes/No).\n",
        "**Hot water heating:** Whether the house has a hot water heating system (Yes/No).\n",
        "**Airconditioning:** Whether the house has an air conditioning system (Yes/No).\n",
        "**Parking:** The number of parking spaces available within the house.\n",
        "**Prefarea:** Whether the house is located in a preferred area (Yes/No).\n",
        "**Furnishing status:** The furnishing status of the house (Fully Furnished, Semi-Furnished, Unfurnished).\n"
      ],
      "metadata": {
        "id": "gf0t8Uxc2UfH"
      }
    },
    {
      "cell_type": "markdown",
      "source": [
        "#Importing libraries"
      ],
      "metadata": {
        "id": "4ZXW7o8l6lev"
      }
    },
    {
      "cell_type": "code",
      "execution_count": null,
      "metadata": {
        "id": "05lZ0moG1Qax"
      },
      "outputs": [],
      "source": [
        "import pandas as pd\n",
        "import matplotlib.pyplot as plt\n",
        "import seaborn as sns"
      ]
    },
    {
      "cell_type": "markdown",
      "source": [
        "#Reading Dataset"
      ],
      "metadata": {
        "id": "34H_X0vz7RAg"
      }
    },
    {
      "cell_type": "code",
      "source": [
        "df = pd.read_csv(\"/content/Housing.csv\")\n",
        "df.head()"
      ],
      "metadata": {
        "colab": {
          "base_uri": "https://localhost:8080/",
          "height": 206
        },
        "id": "zQPMk3MS609b",
        "outputId": "79ac3d3a-8a8b-4cfb-86da-a9d7b21b7750"
      },
      "execution_count": null,
      "outputs": [
        {
          "output_type": "execute_result",
          "data": {
            "text/plain": [
              "      price  area  bedrooms  bathrooms  stories mainroad guestroom basement  \\\n",
              "0  13300000  7420         4          2        3      yes        no       no   \n",
              "1  12250000  8960         4          4        4      yes        no       no   \n",
              "2  12250000  9960         3          2        2      yes        no      yes   \n",
              "3  12215000  7500         4          2        2      yes        no      yes   \n",
              "4  11410000  7420         4          1        2      yes       yes      yes   \n",
              "\n",
              "  hotwaterheating airconditioning  parking prefarea furnishingstatus  \n",
              "0              no             yes        2      yes        furnished  \n",
              "1              no             yes        3       no        furnished  \n",
              "2              no              no        2      yes   semi-furnished  \n",
              "3              no             yes        3      yes        furnished  \n",
              "4              no             yes        2       no        furnished  "
            ],
            "text/html": [
              "\n",
              "  <div id=\"df-d51acb4c-cdab-4e57-bf78-cb2848ebe20a\" class=\"colab-df-container\">\n",
              "    <div>\n",
              "<style scoped>\n",
              "    .dataframe tbody tr th:only-of-type {\n",
              "        vertical-align: middle;\n",
              "    }\n",
              "\n",
              "    .dataframe tbody tr th {\n",
              "        vertical-align: top;\n",
              "    }\n",
              "\n",
              "    .dataframe thead th {\n",
              "        text-align: right;\n",
              "    }\n",
              "</style>\n",
              "<table border=\"1\" class=\"dataframe\">\n",
              "  <thead>\n",
              "    <tr style=\"text-align: right;\">\n",
              "      <th></th>\n",
              "      <th>price</th>\n",
              "      <th>area</th>\n",
              "      <th>bedrooms</th>\n",
              "      <th>bathrooms</th>\n",
              "      <th>stories</th>\n",
              "      <th>mainroad</th>\n",
              "      <th>guestroom</th>\n",
              "      <th>basement</th>\n",
              "      <th>hotwaterheating</th>\n",
              "      <th>airconditioning</th>\n",
              "      <th>parking</th>\n",
              "      <th>prefarea</th>\n",
              "      <th>furnishingstatus</th>\n",
              "    </tr>\n",
              "  </thead>\n",
              "  <tbody>\n",
              "    <tr>\n",
              "      <th>0</th>\n",
              "      <td>13300000</td>\n",
              "      <td>7420</td>\n",
              "      <td>4</td>\n",
              "      <td>2</td>\n",
              "      <td>3</td>\n",
              "      <td>yes</td>\n",
              "      <td>no</td>\n",
              "      <td>no</td>\n",
              "      <td>no</td>\n",
              "      <td>yes</td>\n",
              "      <td>2</td>\n",
              "      <td>yes</td>\n",
              "      <td>furnished</td>\n",
              "    </tr>\n",
              "    <tr>\n",
              "      <th>1</th>\n",
              "      <td>12250000</td>\n",
              "      <td>8960</td>\n",
              "      <td>4</td>\n",
              "      <td>4</td>\n",
              "      <td>4</td>\n",
              "      <td>yes</td>\n",
              "      <td>no</td>\n",
              "      <td>no</td>\n",
              "      <td>no</td>\n",
              "      <td>yes</td>\n",
              "      <td>3</td>\n",
              "      <td>no</td>\n",
              "      <td>furnished</td>\n",
              "    </tr>\n",
              "    <tr>\n",
              "      <th>2</th>\n",
              "      <td>12250000</td>\n",
              "      <td>9960</td>\n",
              "      <td>3</td>\n",
              "      <td>2</td>\n",
              "      <td>2</td>\n",
              "      <td>yes</td>\n",
              "      <td>no</td>\n",
              "      <td>yes</td>\n",
              "      <td>no</td>\n",
              "      <td>no</td>\n",
              "      <td>2</td>\n",
              "      <td>yes</td>\n",
              "      <td>semi-furnished</td>\n",
              "    </tr>\n",
              "    <tr>\n",
              "      <th>3</th>\n",
              "      <td>12215000</td>\n",
              "      <td>7500</td>\n",
              "      <td>4</td>\n",
              "      <td>2</td>\n",
              "      <td>2</td>\n",
              "      <td>yes</td>\n",
              "      <td>no</td>\n",
              "      <td>yes</td>\n",
              "      <td>no</td>\n",
              "      <td>yes</td>\n",
              "      <td>3</td>\n",
              "      <td>yes</td>\n",
              "      <td>furnished</td>\n",
              "    </tr>\n",
              "    <tr>\n",
              "      <th>4</th>\n",
              "      <td>11410000</td>\n",
              "      <td>7420</td>\n",
              "      <td>4</td>\n",
              "      <td>1</td>\n",
              "      <td>2</td>\n",
              "      <td>yes</td>\n",
              "      <td>yes</td>\n",
              "      <td>yes</td>\n",
              "      <td>no</td>\n",
              "      <td>yes</td>\n",
              "      <td>2</td>\n",
              "      <td>no</td>\n",
              "      <td>furnished</td>\n",
              "    </tr>\n",
              "  </tbody>\n",
              "</table>\n",
              "</div>\n",
              "    <div class=\"colab-df-buttons\">\n",
              "\n",
              "  <div class=\"colab-df-container\">\n",
              "    <button class=\"colab-df-convert\" onclick=\"convertToInteractive('df-d51acb4c-cdab-4e57-bf78-cb2848ebe20a')\"\n",
              "            title=\"Convert this dataframe to an interactive table.\"\n",
              "            style=\"display:none;\">\n",
              "\n",
              "  <svg xmlns=\"http://www.w3.org/2000/svg\" height=\"24px\" viewBox=\"0 -960 960 960\">\n",
              "    <path d=\"M120-120v-720h720v720H120Zm60-500h600v-160H180v160Zm220 220h160v-160H400v160Zm0 220h160v-160H400v160ZM180-400h160v-160H180v160Zm440 0h160v-160H620v160ZM180-180h160v-160H180v160Zm440 0h160v-160H620v160Z\"/>\n",
              "  </svg>\n",
              "    </button>\n",
              "\n",
              "  <style>\n",
              "    .colab-df-container {\n",
              "      display:flex;\n",
              "      gap: 12px;\n",
              "    }\n",
              "\n",
              "    .colab-df-convert {\n",
              "      background-color: #E8F0FE;\n",
              "      border: none;\n",
              "      border-radius: 50%;\n",
              "      cursor: pointer;\n",
              "      display: none;\n",
              "      fill: #1967D2;\n",
              "      height: 32px;\n",
              "      padding: 0 0 0 0;\n",
              "      width: 32px;\n",
              "    }\n",
              "\n",
              "    .colab-df-convert:hover {\n",
              "      background-color: #E2EBFA;\n",
              "      box-shadow: 0px 1px 2px rgba(60, 64, 67, 0.3), 0px 1px 3px 1px rgba(60, 64, 67, 0.15);\n",
              "      fill: #174EA6;\n",
              "    }\n",
              "\n",
              "    .colab-df-buttons div {\n",
              "      margin-bottom: 4px;\n",
              "    }\n",
              "\n",
              "    [theme=dark] .colab-df-convert {\n",
              "      background-color: #3B4455;\n",
              "      fill: #D2E3FC;\n",
              "    }\n",
              "\n",
              "    [theme=dark] .colab-df-convert:hover {\n",
              "      background-color: #434B5C;\n",
              "      box-shadow: 0px 1px 3px 1px rgba(0, 0, 0, 0.15);\n",
              "      filter: drop-shadow(0px 1px 2px rgba(0, 0, 0, 0.3));\n",
              "      fill: #FFFFFF;\n",
              "    }\n",
              "  </style>\n",
              "\n",
              "    <script>\n",
              "      const buttonEl =\n",
              "        document.querySelector('#df-d51acb4c-cdab-4e57-bf78-cb2848ebe20a button.colab-df-convert');\n",
              "      buttonEl.style.display =\n",
              "        google.colab.kernel.accessAllowed ? 'block' : 'none';\n",
              "\n",
              "      async function convertToInteractive(key) {\n",
              "        const element = document.querySelector('#df-d51acb4c-cdab-4e57-bf78-cb2848ebe20a');\n",
              "        const dataTable =\n",
              "          await google.colab.kernel.invokeFunction('convertToInteractive',\n",
              "                                                    [key], {});\n",
              "        if (!dataTable) return;\n",
              "\n",
              "        const docLinkHtml = 'Like what you see? Visit the ' +\n",
              "          '<a target=\"_blank\" href=https://colab.research.google.com/notebooks/data_table.ipynb>data table notebook</a>'\n",
              "          + ' to learn more about interactive tables.';\n",
              "        element.innerHTML = '';\n",
              "        dataTable['output_type'] = 'display_data';\n",
              "        await google.colab.output.renderOutput(dataTable, element);\n",
              "        const docLink = document.createElement('div');\n",
              "        docLink.innerHTML = docLinkHtml;\n",
              "        element.appendChild(docLink);\n",
              "      }\n",
              "    </script>\n",
              "  </div>\n",
              "\n",
              "\n",
              "<div id=\"df-51bca976-97bd-4ab4-80d4-502fdffbe9d7\">\n",
              "  <button class=\"colab-df-quickchart\" onclick=\"quickchart('df-51bca976-97bd-4ab4-80d4-502fdffbe9d7')\"\n",
              "            title=\"Suggest charts\"\n",
              "            style=\"display:none;\">\n",
              "\n",
              "<svg xmlns=\"http://www.w3.org/2000/svg\" height=\"24px\"viewBox=\"0 0 24 24\"\n",
              "     width=\"24px\">\n",
              "    <g>\n",
              "        <path d=\"M19 3H5c-1.1 0-2 .9-2 2v14c0 1.1.9 2 2 2h14c1.1 0 2-.9 2-2V5c0-1.1-.9-2-2-2zM9 17H7v-7h2v7zm4 0h-2V7h2v10zm4 0h-2v-4h2v4z\"/>\n",
              "    </g>\n",
              "</svg>\n",
              "  </button>\n",
              "\n",
              "<style>\n",
              "  .colab-df-quickchart {\n",
              "      --bg-color: #E8F0FE;\n",
              "      --fill-color: #1967D2;\n",
              "      --hover-bg-color: #E2EBFA;\n",
              "      --hover-fill-color: #174EA6;\n",
              "      --disabled-fill-color: #AAA;\n",
              "      --disabled-bg-color: #DDD;\n",
              "  }\n",
              "\n",
              "  [theme=dark] .colab-df-quickchart {\n",
              "      --bg-color: #3B4455;\n",
              "      --fill-color: #D2E3FC;\n",
              "      --hover-bg-color: #434B5C;\n",
              "      --hover-fill-color: #FFFFFF;\n",
              "      --disabled-bg-color: #3B4455;\n",
              "      --disabled-fill-color: #666;\n",
              "  }\n",
              "\n",
              "  .colab-df-quickchart {\n",
              "    background-color: var(--bg-color);\n",
              "    border: none;\n",
              "    border-radius: 50%;\n",
              "    cursor: pointer;\n",
              "    display: none;\n",
              "    fill: var(--fill-color);\n",
              "    height: 32px;\n",
              "    padding: 0;\n",
              "    width: 32px;\n",
              "  }\n",
              "\n",
              "  .colab-df-quickchart:hover {\n",
              "    background-color: var(--hover-bg-color);\n",
              "    box-shadow: 0 1px 2px rgba(60, 64, 67, 0.3), 0 1px 3px 1px rgba(60, 64, 67, 0.15);\n",
              "    fill: var(--button-hover-fill-color);\n",
              "  }\n",
              "\n",
              "  .colab-df-quickchart-complete:disabled,\n",
              "  .colab-df-quickchart-complete:disabled:hover {\n",
              "    background-color: var(--disabled-bg-color);\n",
              "    fill: var(--disabled-fill-color);\n",
              "    box-shadow: none;\n",
              "  }\n",
              "\n",
              "  .colab-df-spinner {\n",
              "    border: 2px solid var(--fill-color);\n",
              "    border-color: transparent;\n",
              "    border-bottom-color: var(--fill-color);\n",
              "    animation:\n",
              "      spin 1s steps(1) infinite;\n",
              "  }\n",
              "\n",
              "  @keyframes spin {\n",
              "    0% {\n",
              "      border-color: transparent;\n",
              "      border-bottom-color: var(--fill-color);\n",
              "      border-left-color: var(--fill-color);\n",
              "    }\n",
              "    20% {\n",
              "      border-color: transparent;\n",
              "      border-left-color: var(--fill-color);\n",
              "      border-top-color: var(--fill-color);\n",
              "    }\n",
              "    30% {\n",
              "      border-color: transparent;\n",
              "      border-left-color: var(--fill-color);\n",
              "      border-top-color: var(--fill-color);\n",
              "      border-right-color: var(--fill-color);\n",
              "    }\n",
              "    40% {\n",
              "      border-color: transparent;\n",
              "      border-right-color: var(--fill-color);\n",
              "      border-top-color: var(--fill-color);\n",
              "    }\n",
              "    60% {\n",
              "      border-color: transparent;\n",
              "      border-right-color: var(--fill-color);\n",
              "    }\n",
              "    80% {\n",
              "      border-color: transparent;\n",
              "      border-right-color: var(--fill-color);\n",
              "      border-bottom-color: var(--fill-color);\n",
              "    }\n",
              "    90% {\n",
              "      border-color: transparent;\n",
              "      border-bottom-color: var(--fill-color);\n",
              "    }\n",
              "  }\n",
              "</style>\n",
              "\n",
              "  <script>\n",
              "    async function quickchart(key) {\n",
              "      const quickchartButtonEl =\n",
              "        document.querySelector('#' + key + ' button');\n",
              "      quickchartButtonEl.disabled = true;  // To prevent multiple clicks.\n",
              "      quickchartButtonEl.classList.add('colab-df-spinner');\n",
              "      try {\n",
              "        const charts = await google.colab.kernel.invokeFunction(\n",
              "            'suggestCharts', [key], {});\n",
              "      } catch (error) {\n",
              "        console.error('Error during call to suggestCharts:', error);\n",
              "      }\n",
              "      quickchartButtonEl.classList.remove('colab-df-spinner');\n",
              "      quickchartButtonEl.classList.add('colab-df-quickchart-complete');\n",
              "    }\n",
              "    (() => {\n",
              "      let quickchartButtonEl =\n",
              "        document.querySelector('#df-51bca976-97bd-4ab4-80d4-502fdffbe9d7 button');\n",
              "      quickchartButtonEl.style.display =\n",
              "        google.colab.kernel.accessAllowed ? 'block' : 'none';\n",
              "    })();\n",
              "  </script>\n",
              "</div>\n",
              "\n",
              "    </div>\n",
              "  </div>\n"
            ]
          },
          "metadata": {},
          "execution_count": 2
        }
      ]
    },
    {
      "cell_type": "code",
      "source": [
        "df.info()"
      ],
      "metadata": {
        "colab": {
          "base_uri": "https://localhost:8080/"
        },
        "id": "loL7O3zi7NnJ",
        "outputId": "104e10e0-8b30-47b6-8348-9875be88b4c4"
      },
      "execution_count": null,
      "outputs": [
        {
          "output_type": "stream",
          "name": "stdout",
          "text": [
            "<class 'pandas.core.frame.DataFrame'>\n",
            "RangeIndex: 545 entries, 0 to 544\n",
            "Data columns (total 13 columns):\n",
            " #   Column            Non-Null Count  Dtype \n",
            "---  ------            --------------  ----- \n",
            " 0   price             545 non-null    int64 \n",
            " 1   area              545 non-null    int64 \n",
            " 2   bedrooms          545 non-null    int64 \n",
            " 3   bathrooms         545 non-null    int64 \n",
            " 4   stories           545 non-null    int64 \n",
            " 5   mainroad          545 non-null    object\n",
            " 6   guestroom         545 non-null    object\n",
            " 7   basement          545 non-null    object\n",
            " 8   hotwaterheating   545 non-null    object\n",
            " 9   airconditioning   545 non-null    object\n",
            " 10  parking           545 non-null    int64 \n",
            " 11  prefarea          545 non-null    object\n",
            " 12  furnishingstatus  545 non-null    object\n",
            "dtypes: int64(6), object(7)\n",
            "memory usage: 55.5+ KB\n"
          ]
        }
      ]
    },
    {
      "cell_type": "code",
      "source": [
        "df.columns"
      ],
      "metadata": {
        "colab": {
          "base_uri": "https://localhost:8080/"
        },
        "id": "5YXm27RJ7eBU",
        "outputId": "4c1eac46-d8dc-4aa3-dae9-30d499a88745"
      },
      "execution_count": null,
      "outputs": [
        {
          "output_type": "execute_result",
          "data": {
            "text/plain": [
              "Index(['price', 'area', 'bedrooms', 'bathrooms', 'stories', 'mainroad',\n",
              "       'guestroom', 'basement', 'hotwaterheating', 'airconditioning',\n",
              "       'parking', 'prefarea', 'furnishingstatus'],\n",
              "      dtype='object')"
            ]
          },
          "metadata": {},
          "execution_count": 5
        }
      ]
    },
    {
      "cell_type": "code",
      "source": [
        "df.describe()"
      ],
      "metadata": {
        "colab": {
          "base_uri": "https://localhost:8080/",
          "height": 300
        },
        "id": "pdU9nnv37f1-",
        "outputId": "24703ed8-99cd-4a4f-8228-4e5591d3ed78"
      },
      "execution_count": null,
      "outputs": [
        {
          "output_type": "execute_result",
          "data": {
            "text/plain": [
              "              price          area    bedrooms   bathrooms     stories  \\\n",
              "count  5.450000e+02    545.000000  545.000000  545.000000  545.000000   \n",
              "mean   4.766729e+06   5150.541284    2.965138    1.286239    1.805505   \n",
              "std    1.870440e+06   2170.141023    0.738064    0.502470    0.867492   \n",
              "min    1.750000e+06   1650.000000    1.000000    1.000000    1.000000   \n",
              "25%    3.430000e+06   3600.000000    2.000000    1.000000    1.000000   \n",
              "50%    4.340000e+06   4600.000000    3.000000    1.000000    2.000000   \n",
              "75%    5.740000e+06   6360.000000    3.000000    2.000000    2.000000   \n",
              "max    1.330000e+07  16200.000000    6.000000    4.000000    4.000000   \n",
              "\n",
              "          parking  \n",
              "count  545.000000  \n",
              "mean     0.693578  \n",
              "std      0.861586  \n",
              "min      0.000000  \n",
              "25%      0.000000  \n",
              "50%      0.000000  \n",
              "75%      1.000000  \n",
              "max      3.000000  "
            ],
            "text/html": [
              "\n",
              "  <div id=\"df-43a1431f-fec0-40f6-8a45-c6f325e96852\" class=\"colab-df-container\">\n",
              "    <div>\n",
              "<style scoped>\n",
              "    .dataframe tbody tr th:only-of-type {\n",
              "        vertical-align: middle;\n",
              "    }\n",
              "\n",
              "    .dataframe tbody tr th {\n",
              "        vertical-align: top;\n",
              "    }\n",
              "\n",
              "    .dataframe thead th {\n",
              "        text-align: right;\n",
              "    }\n",
              "</style>\n",
              "<table border=\"1\" class=\"dataframe\">\n",
              "  <thead>\n",
              "    <tr style=\"text-align: right;\">\n",
              "      <th></th>\n",
              "      <th>price</th>\n",
              "      <th>area</th>\n",
              "      <th>bedrooms</th>\n",
              "      <th>bathrooms</th>\n",
              "      <th>stories</th>\n",
              "      <th>parking</th>\n",
              "    </tr>\n",
              "  </thead>\n",
              "  <tbody>\n",
              "    <tr>\n",
              "      <th>count</th>\n",
              "      <td>5.450000e+02</td>\n",
              "      <td>545.000000</td>\n",
              "      <td>545.000000</td>\n",
              "      <td>545.000000</td>\n",
              "      <td>545.000000</td>\n",
              "      <td>545.000000</td>\n",
              "    </tr>\n",
              "    <tr>\n",
              "      <th>mean</th>\n",
              "      <td>4.766729e+06</td>\n",
              "      <td>5150.541284</td>\n",
              "      <td>2.965138</td>\n",
              "      <td>1.286239</td>\n",
              "      <td>1.805505</td>\n",
              "      <td>0.693578</td>\n",
              "    </tr>\n",
              "    <tr>\n",
              "      <th>std</th>\n",
              "      <td>1.870440e+06</td>\n",
              "      <td>2170.141023</td>\n",
              "      <td>0.738064</td>\n",
              "      <td>0.502470</td>\n",
              "      <td>0.867492</td>\n",
              "      <td>0.861586</td>\n",
              "    </tr>\n",
              "    <tr>\n",
              "      <th>min</th>\n",
              "      <td>1.750000e+06</td>\n",
              "      <td>1650.000000</td>\n",
              "      <td>1.000000</td>\n",
              "      <td>1.000000</td>\n",
              "      <td>1.000000</td>\n",
              "      <td>0.000000</td>\n",
              "    </tr>\n",
              "    <tr>\n",
              "      <th>25%</th>\n",
              "      <td>3.430000e+06</td>\n",
              "      <td>3600.000000</td>\n",
              "      <td>2.000000</td>\n",
              "      <td>1.000000</td>\n",
              "      <td>1.000000</td>\n",
              "      <td>0.000000</td>\n",
              "    </tr>\n",
              "    <tr>\n",
              "      <th>50%</th>\n",
              "      <td>4.340000e+06</td>\n",
              "      <td>4600.000000</td>\n",
              "      <td>3.000000</td>\n",
              "      <td>1.000000</td>\n",
              "      <td>2.000000</td>\n",
              "      <td>0.000000</td>\n",
              "    </tr>\n",
              "    <tr>\n",
              "      <th>75%</th>\n",
              "      <td>5.740000e+06</td>\n",
              "      <td>6360.000000</td>\n",
              "      <td>3.000000</td>\n",
              "      <td>2.000000</td>\n",
              "      <td>2.000000</td>\n",
              "      <td>1.000000</td>\n",
              "    </tr>\n",
              "    <tr>\n",
              "      <th>max</th>\n",
              "      <td>1.330000e+07</td>\n",
              "      <td>16200.000000</td>\n",
              "      <td>6.000000</td>\n",
              "      <td>4.000000</td>\n",
              "      <td>4.000000</td>\n",
              "      <td>3.000000</td>\n",
              "    </tr>\n",
              "  </tbody>\n",
              "</table>\n",
              "</div>\n",
              "    <div class=\"colab-df-buttons\">\n",
              "\n",
              "  <div class=\"colab-df-container\">\n",
              "    <button class=\"colab-df-convert\" onclick=\"convertToInteractive('df-43a1431f-fec0-40f6-8a45-c6f325e96852')\"\n",
              "            title=\"Convert this dataframe to an interactive table.\"\n",
              "            style=\"display:none;\">\n",
              "\n",
              "  <svg xmlns=\"http://www.w3.org/2000/svg\" height=\"24px\" viewBox=\"0 -960 960 960\">\n",
              "    <path d=\"M120-120v-720h720v720H120Zm60-500h600v-160H180v160Zm220 220h160v-160H400v160Zm0 220h160v-160H400v160ZM180-400h160v-160H180v160Zm440 0h160v-160H620v160ZM180-180h160v-160H180v160Zm440 0h160v-160H620v160Z\"/>\n",
              "  </svg>\n",
              "    </button>\n",
              "\n",
              "  <style>\n",
              "    .colab-df-container {\n",
              "      display:flex;\n",
              "      gap: 12px;\n",
              "    }\n",
              "\n",
              "    .colab-df-convert {\n",
              "      background-color: #E8F0FE;\n",
              "      border: none;\n",
              "      border-radius: 50%;\n",
              "      cursor: pointer;\n",
              "      display: none;\n",
              "      fill: #1967D2;\n",
              "      height: 32px;\n",
              "      padding: 0 0 0 0;\n",
              "      width: 32px;\n",
              "    }\n",
              "\n",
              "    .colab-df-convert:hover {\n",
              "      background-color: #E2EBFA;\n",
              "      box-shadow: 0px 1px 2px rgba(60, 64, 67, 0.3), 0px 1px 3px 1px rgba(60, 64, 67, 0.15);\n",
              "      fill: #174EA6;\n",
              "    }\n",
              "\n",
              "    .colab-df-buttons div {\n",
              "      margin-bottom: 4px;\n",
              "    }\n",
              "\n",
              "    [theme=dark] .colab-df-convert {\n",
              "      background-color: #3B4455;\n",
              "      fill: #D2E3FC;\n",
              "    }\n",
              "\n",
              "    [theme=dark] .colab-df-convert:hover {\n",
              "      background-color: #434B5C;\n",
              "      box-shadow: 0px 1px 3px 1px rgba(0, 0, 0, 0.15);\n",
              "      filter: drop-shadow(0px 1px 2px rgba(0, 0, 0, 0.3));\n",
              "      fill: #FFFFFF;\n",
              "    }\n",
              "  </style>\n",
              "\n",
              "    <script>\n",
              "      const buttonEl =\n",
              "        document.querySelector('#df-43a1431f-fec0-40f6-8a45-c6f325e96852 button.colab-df-convert');\n",
              "      buttonEl.style.display =\n",
              "        google.colab.kernel.accessAllowed ? 'block' : 'none';\n",
              "\n",
              "      async function convertToInteractive(key) {\n",
              "        const element = document.querySelector('#df-43a1431f-fec0-40f6-8a45-c6f325e96852');\n",
              "        const dataTable =\n",
              "          await google.colab.kernel.invokeFunction('convertToInteractive',\n",
              "                                                    [key], {});\n",
              "        if (!dataTable) return;\n",
              "\n",
              "        const docLinkHtml = 'Like what you see? Visit the ' +\n",
              "          '<a target=\"_blank\" href=https://colab.research.google.com/notebooks/data_table.ipynb>data table notebook</a>'\n",
              "          + ' to learn more about interactive tables.';\n",
              "        element.innerHTML = '';\n",
              "        dataTable['output_type'] = 'display_data';\n",
              "        await google.colab.output.renderOutput(dataTable, element);\n",
              "        const docLink = document.createElement('div');\n",
              "        docLink.innerHTML = docLinkHtml;\n",
              "        element.appendChild(docLink);\n",
              "      }\n",
              "    </script>\n",
              "  </div>\n",
              "\n",
              "\n",
              "<div id=\"df-8b637af6-f926-4ffd-9273-b4ad2ad78ac5\">\n",
              "  <button class=\"colab-df-quickchart\" onclick=\"quickchart('df-8b637af6-f926-4ffd-9273-b4ad2ad78ac5')\"\n",
              "            title=\"Suggest charts\"\n",
              "            style=\"display:none;\">\n",
              "\n",
              "<svg xmlns=\"http://www.w3.org/2000/svg\" height=\"24px\"viewBox=\"0 0 24 24\"\n",
              "     width=\"24px\">\n",
              "    <g>\n",
              "        <path d=\"M19 3H5c-1.1 0-2 .9-2 2v14c0 1.1.9 2 2 2h14c1.1 0 2-.9 2-2V5c0-1.1-.9-2-2-2zM9 17H7v-7h2v7zm4 0h-2V7h2v10zm4 0h-2v-4h2v4z\"/>\n",
              "    </g>\n",
              "</svg>\n",
              "  </button>\n",
              "\n",
              "<style>\n",
              "  .colab-df-quickchart {\n",
              "      --bg-color: #E8F0FE;\n",
              "      --fill-color: #1967D2;\n",
              "      --hover-bg-color: #E2EBFA;\n",
              "      --hover-fill-color: #174EA6;\n",
              "      --disabled-fill-color: #AAA;\n",
              "      --disabled-bg-color: #DDD;\n",
              "  }\n",
              "\n",
              "  [theme=dark] .colab-df-quickchart {\n",
              "      --bg-color: #3B4455;\n",
              "      --fill-color: #D2E3FC;\n",
              "      --hover-bg-color: #434B5C;\n",
              "      --hover-fill-color: #FFFFFF;\n",
              "      --disabled-bg-color: #3B4455;\n",
              "      --disabled-fill-color: #666;\n",
              "  }\n",
              "\n",
              "  .colab-df-quickchart {\n",
              "    background-color: var(--bg-color);\n",
              "    border: none;\n",
              "    border-radius: 50%;\n",
              "    cursor: pointer;\n",
              "    display: none;\n",
              "    fill: var(--fill-color);\n",
              "    height: 32px;\n",
              "    padding: 0;\n",
              "    width: 32px;\n",
              "  }\n",
              "\n",
              "  .colab-df-quickchart:hover {\n",
              "    background-color: var(--hover-bg-color);\n",
              "    box-shadow: 0 1px 2px rgba(60, 64, 67, 0.3), 0 1px 3px 1px rgba(60, 64, 67, 0.15);\n",
              "    fill: var(--button-hover-fill-color);\n",
              "  }\n",
              "\n",
              "  .colab-df-quickchart-complete:disabled,\n",
              "  .colab-df-quickchart-complete:disabled:hover {\n",
              "    background-color: var(--disabled-bg-color);\n",
              "    fill: var(--disabled-fill-color);\n",
              "    box-shadow: none;\n",
              "  }\n",
              "\n",
              "  .colab-df-spinner {\n",
              "    border: 2px solid var(--fill-color);\n",
              "    border-color: transparent;\n",
              "    border-bottom-color: var(--fill-color);\n",
              "    animation:\n",
              "      spin 1s steps(1) infinite;\n",
              "  }\n",
              "\n",
              "  @keyframes spin {\n",
              "    0% {\n",
              "      border-color: transparent;\n",
              "      border-bottom-color: var(--fill-color);\n",
              "      border-left-color: var(--fill-color);\n",
              "    }\n",
              "    20% {\n",
              "      border-color: transparent;\n",
              "      border-left-color: var(--fill-color);\n",
              "      border-top-color: var(--fill-color);\n",
              "    }\n",
              "    30% {\n",
              "      border-color: transparent;\n",
              "      border-left-color: var(--fill-color);\n",
              "      border-top-color: var(--fill-color);\n",
              "      border-right-color: var(--fill-color);\n",
              "    }\n",
              "    40% {\n",
              "      border-color: transparent;\n",
              "      border-right-color: var(--fill-color);\n",
              "      border-top-color: var(--fill-color);\n",
              "    }\n",
              "    60% {\n",
              "      border-color: transparent;\n",
              "      border-right-color: var(--fill-color);\n",
              "    }\n",
              "    80% {\n",
              "      border-color: transparent;\n",
              "      border-right-color: var(--fill-color);\n",
              "      border-bottom-color: var(--fill-color);\n",
              "    }\n",
              "    90% {\n",
              "      border-color: transparent;\n",
              "      border-bottom-color: var(--fill-color);\n",
              "    }\n",
              "  }\n",
              "</style>\n",
              "\n",
              "  <script>\n",
              "    async function quickchart(key) {\n",
              "      const quickchartButtonEl =\n",
              "        document.querySelector('#' + key + ' button');\n",
              "      quickchartButtonEl.disabled = true;  // To prevent multiple clicks.\n",
              "      quickchartButtonEl.classList.add('colab-df-spinner');\n",
              "      try {\n",
              "        const charts = await google.colab.kernel.invokeFunction(\n",
              "            'suggestCharts', [key], {});\n",
              "      } catch (error) {\n",
              "        console.error('Error during call to suggestCharts:', error);\n",
              "      }\n",
              "      quickchartButtonEl.classList.remove('colab-df-spinner');\n",
              "      quickchartButtonEl.classList.add('colab-df-quickchart-complete');\n",
              "    }\n",
              "    (() => {\n",
              "      let quickchartButtonEl =\n",
              "        document.querySelector('#df-8b637af6-f926-4ffd-9273-b4ad2ad78ac5 button');\n",
              "      quickchartButtonEl.style.display =\n",
              "        google.colab.kernel.accessAllowed ? 'block' : 'none';\n",
              "    })();\n",
              "  </script>\n",
              "</div>\n",
              "\n",
              "    </div>\n",
              "  </div>\n"
            ]
          },
          "metadata": {},
          "execution_count": 6
        }
      ]
    },
    {
      "cell_type": "markdown",
      "source": [
        "># Data Preprocessing"
      ],
      "metadata": {
        "id": "0UdbaauQHJol"
      }
    },
    {
      "cell_type": "markdown",
      "source": [
        "# checking for duplicates"
      ],
      "metadata": {
        "id": "CD0G7Vnj79qa"
      }
    },
    {
      "cell_type": "code",
      "source": [
        "df.duplicated()"
      ],
      "metadata": {
        "colab": {
          "base_uri": "https://localhost:8080/"
        },
        "id": "N0X2OJq-7sF4",
        "outputId": "fa1060c4-39fc-4bcc-ff24-15761e5fdcb3"
      },
      "execution_count": null,
      "outputs": [
        {
          "output_type": "execute_result",
          "data": {
            "text/plain": [
              "0      False\n",
              "1      False\n",
              "2      False\n",
              "3      False\n",
              "4      False\n",
              "       ...  \n",
              "540    False\n",
              "541    False\n",
              "542    False\n",
              "543    False\n",
              "544    False\n",
              "Length: 545, dtype: bool"
            ]
          },
          "metadata": {},
          "execution_count": 8
        }
      ]
    },
    {
      "cell_type": "code",
      "source": [
        "df.duplicated().sum()"
      ],
      "metadata": {
        "colab": {
          "base_uri": "https://localhost:8080/"
        },
        "id": "iY8UCFJm77O5",
        "outputId": "bfb36e5f-f855-4771-da8b-2b5cd38ad40f"
      },
      "execution_count": null,
      "outputs": [
        {
          "output_type": "execute_result",
          "data": {
            "text/plain": [
              "0"
            ]
          },
          "metadata": {},
          "execution_count": 9
        }
      ]
    },
    {
      "cell_type": "markdown",
      "source": [
        "#checking for missing values:"
      ],
      "metadata": {
        "id": "59TSb_VM8U95"
      }
    },
    {
      "cell_type": "code",
      "source": [
        "df.isnull().sum()"
      ],
      "metadata": {
        "colab": {
          "base_uri": "https://localhost:8080/"
        },
        "id": "ZcGdqZp_8Nke",
        "outputId": "6c2c06d1-38b0-4ab1-d7dd-5de49ff6cca9"
      },
      "execution_count": null,
      "outputs": [
        {
          "output_type": "execute_result",
          "data": {
            "text/plain": [
              "price               0\n",
              "area                0\n",
              "bedrooms            0\n",
              "bathrooms           0\n",
              "stories             0\n",
              "mainroad            0\n",
              "guestroom           0\n",
              "basement            0\n",
              "hotwaterheating     0\n",
              "airconditioning     0\n",
              "parking             0\n",
              "prefarea            0\n",
              "furnishingstatus    0\n",
              "dtype: int64"
            ]
          },
          "metadata": {},
          "execution_count": 10
        }
      ]
    },
    {
      "cell_type": "markdown",
      "source": [
        "#checking for presence of outliers"
      ],
      "metadata": {
        "id": "ggQZ2KjO8kep"
      }
    },
    {
      "cell_type": "code",
      "source": [
        "plt.boxplot(df['area'])\n",
        "plt.title(\"Detecting presence of Outliers\")\n",
        "plt.xlabel(\"Area\")\n",
        "plt.ylabel(\"Price\")"
      ],
      "metadata": {
        "colab": {
          "base_uri": "https://localhost:8080/",
          "height": 489
        },
        "id": "J04wsDEJ8e7w",
        "outputId": "55407932-79ce-4245-9041-7c66a31c36d1"
      },
      "execution_count": null,
      "outputs": [
        {
          "output_type": "execute_result",
          "data": {
            "text/plain": [
              "Text(0, 0.5, 'Price')"
            ]
          },
          "metadata": {},
          "execution_count": 13
        },
        {
          "output_type": "display_data",
          "data": {
            "text/plain": [
              "<Figure size 640x480 with 1 Axes>"
            ],
            "image/png": "[encoded data removed]"
          },
          "metadata": {}
        }
      ]
    },
    {
      "cell_type": "code",
      "source": [
        "plt.boxplot(df['bedrooms'])\n",
        "plt.title(\"Detecting presence of Outliers\")\n",
        "plt.xlabel(\"Bedrooms\")\n",
        "plt.ylabel(\"Price\")"
      ],
      "metadata": {
        "colab": {
          "base_uri": "https://localhost:8080/",
          "height": 489
        },
        "id": "yoBP6XCb85xB",
        "outputId": "4a37f527-7d40-4a9b-f0db-ef5d012f0cde"
      },
      "execution_count": null,
      "outputs": [
        {
          "output_type": "execute_result",
          "data": {
            "text/plain": [
              "Text(0, 0.5, 'Price')"
            ]
          },
          "metadata": {},
          "execution_count": 12
        },
        {
          "output_type": "display_data",
          "data": {
            "text/plain": [
              "<Figure size 640x480 with 1 Axes>"
            ],
            "image/png": "[encoded data removed]"
          },
          "metadata": {}
        }
      ]
    },
    {
      "cell_type": "code",
      "source": [
        "plt.boxplot(df['bathrooms'])\n",
        "plt.title(\"Detecting presence of Outliers\")\n",
        "plt.xlabel(\"Bathrooms\")\n",
        "plt.ylabel(\"Price\")"
      ],
      "metadata": {
        "colab": {
          "base_uri": "https://localhost:8080/",
          "height": 489
        },
        "id": "pavJ5sGG9Szx",
        "outputId": "f619281a-e727-44f5-df02-c32e15d24ffa"
      },
      "execution_count": null,
      "outputs": [
        {
          "output_type": "execute_result",
          "data": {
            "text/plain": [
              "Text(0, 0.5, 'Price')"
            ]
          },
          "metadata": {},
          "execution_count": 14
        },
        {
          "output_type": "display_data",
          "data": {
            "text/plain": [
              "<Figure size 640x480 with 1 Axes>"
            ],
            "image/png": "[encoded data removed]"
          },
          "metadata": {}
        }
      ]
    },
    {
      "cell_type": "code",
      "source": [
        "plt.boxplot(df['stories'])\n",
        "plt.title(\"Detecting presence of Outliers\")\n",
        "plt.xlabel(\"Stories\")\n",
        "plt.ylabel(\"Price\")"
      ],
      "metadata": {
        "colab": {
          "base_uri": "https://localhost:8080/",
          "height": 489
        },
        "id": "9uNA1i4R_yQz",
        "outputId": "0ac74a7b-ef35-47c2-bd1d-069c002a3738"
      },
      "execution_count": null,
      "outputs": [
        {
          "output_type": "execute_result",
          "data": {
            "text/plain": [
              "Text(0, 0.5, 'Price')"
            ]
          },
          "metadata": {},
          "execution_count": 15
        },
        {
          "output_type": "display_data",
          "data": {
            "text/plain": [
              "<Figure size 640x480 with 1 Axes>"
            ],
            "image/png": "[encoded data removed]"
          },
          "metadata": {}
        }
      ]
    },
    {
      "cell_type": "code",
      "source": [
        "df.describe()"
      ],
      "metadata": {
        "colab": {
          "base_uri": "https://localhost:8080/",
          "height": 300
        },
        "id": "nfaLAxI2CSVF",
        "outputId": "42fe4d35-3b82-41cb-d119-2d6a1f6f61bb"
      },
      "execution_count": null,
      "outputs": [
        {
          "output_type": "execute_result",
          "data": {
            "text/plain": [
              "              price          area    bedrooms   bathrooms     stories  \\\n",
              "count  5.450000e+02    545.000000  545.000000  545.000000  545.000000   \n",
              "mean   4.766729e+06   5150.541284    2.965138    1.286239    1.805505   \n",
              "std    1.870440e+06   2170.141023    0.738064    0.502470    0.867492   \n",
              "min    1.750000e+06   1650.000000    1.000000    1.000000    1.000000   \n",
              "25%    3.430000e+06   3600.000000    2.000000    1.000000    1.000000   \n",
              "50%    4.340000e+06   4600.000000    3.000000    1.000000    2.000000   \n",
              "75%    5.740000e+06   6360.000000    3.000000    2.000000    2.000000   \n",
              "max    1.330000e+07  16200.000000    6.000000    4.000000    4.000000   \n",
              "\n",
              "          parking  \n",
              "count  545.000000  \n",
              "mean     0.693578  \n",
              "std      0.861586  \n",
              "min      0.000000  \n",
              "25%      0.000000  \n",
              "50%      0.000000  \n",
              "75%      1.000000  \n",
              "max      3.000000  "
            ],
            "text/html": [
              "\n",
              "  <div id=\"df-c867a3ff-b182-4bba-96d6-912bdb0a4092\" class=\"colab-df-container\">\n",
              "    <div>\n",
              "<style scoped>\n",
              "    .dataframe tbody tr th:only-of-type {\n",
              "        vertical-align: middle;\n",
              "    }\n",
              "\n",
              "    .dataframe tbody tr th {\n",
              "        vertical-align: top;\n",
              "    }\n",
              "\n",
              "    .dataframe thead th {\n",
              "        text-align: right;\n",
              "    }\n",
              "</style>\n",
              "<table border=\"1\" class=\"dataframe\">\n",
              "  <thead>\n",
              "    <tr style=\"text-align: right;\">\n",
              "      <th></th>\n",
              "      <th>price</th>\n",
              "      <th>area</th>\n",
              "      <th>bedrooms</th>\n",
              "      <th>bathrooms</th>\n",
              "      <th>stories</th>\n",
              "      <th>parking</th>\n",
              "    </tr>\n",
              "  </thead>\n",
              "  <tbody>\n",
              "    <tr>\n",
              "      <th>count</th>\n",
              "      <td>5.450000e+02</td>\n",
              "      <td>545.000000</td>\n",
              "      <td>545.000000</td>\n",
              "      <td>545.000000</td>\n",
              "      <td>545.000000</td>\n",
              "      <td>545.000000</td>\n",
              "    </tr>\n",
              "    <tr>\n",
              "      <th>mean</th>\n",
              "      <td>4.766729e+06</td>\n",
              "      <td>5150.541284</td>\n",
              "      <td>2.965138</td>\n",
              "      <td>1.286239</td>\n",
              "      <td>1.805505</td>\n",
              "      <td>0.693578</td>\n",
              "    </tr>\n",
              "    <tr>\n",
              "      <th>std</th>\n",
              "      <td>1.870440e+06</td>\n",
              "      <td>2170.141023</td>\n",
              "      <td>0.738064</td>\n",
              "      <td>0.502470</td>\n",
              "      <td>0.867492</td>\n",
              "      <td>0.861586</td>\n",
              "    </tr>\n",
              "    <tr>\n",
              "      <th>min</th>\n",
              "      <td>1.750000e+06</td>\n",
              "      <td>1650.000000</td>\n",
              "      <td>1.000000</td>\n",
              "      <td>1.000000</td>\n",
              "      <td>1.000000</td>\n",
              "      <td>0.000000</td>\n",
              "    </tr>\n",
              "    <tr>\n",
              "      <th>25%</th>\n",
              "      <td>3.430000e+06</td>\n",
              "      <td>3600.000000</td>\n",
              "      <td>2.000000</td>\n",
              "      <td>1.000000</td>\n",
              "      <td>1.000000</td>\n",
              "      <td>0.000000</td>\n",
              "    </tr>\n",
              "    <tr>\n",
              "      <th>50%</th>\n",
              "      <td>4.340000e+06</td>\n",
              "      <td>4600.000000</td>\n",
              "      <td>3.000000</td>\n",
              "      <td>1.000000</td>\n",
              "      <td>2.000000</td>\n",
              "      <td>0.000000</td>\n",
              "    </tr>\n",
              "    <tr>\n",
              "      <th>75%</th>\n",
              "      <td>5.740000e+06</td>\n",
              "      <td>6360.000000</td>\n",
              "      <td>3.000000</td>\n",
              "      <td>2.000000</td>\n",
              "      <td>2.000000</td>\n",
              "      <td>1.000000</td>\n",
              "    </tr>\n",
              "    <tr>\n",
              "      <th>max</th>\n",
              "      <td>1.330000e+07</td>\n",
              "      <td>16200.000000</td>\n",
              "      <td>6.000000</td>\n",
              "      <td>4.000000</td>\n",
              "      <td>4.000000</td>\n",
              "      <td>3.000000</td>\n",
              "    </tr>\n",
              "  </tbody>\n",
              "</table>\n",
              "</div>\n",
              "    <div class=\"colab-df-buttons\">\n",
              "\n",
              "  <div class=\"colab-df-container\">\n",
              "    <button class=\"colab-df-convert\" onclick=\"convertToInteractive('df-c867a3ff-b182-4bba-96d6-912bdb0a4092')\"\n",
              "            title=\"Convert this dataframe to an interactive table.\"\n",
              "            style=\"display:none;\">\n",
              "\n",
              "  <svg xmlns=\"http://www.w3.org/2000/svg\" height=\"24px\" viewBox=\"0 -960 960 960\">\n",
              "    <path d=\"M120-120v-720h720v720H120Zm60-500h600v-160H180v160Zm220 220h160v-160H400v160Zm0 220h160v-160H400v160ZM180-400h160v-160H180v160Zm440 0h160v-160H620v160ZM180-180h160v-160H180v160Zm440 0h160v-160H620v160Z\"/>\n",
              "  </svg>\n",
              "    </button>\n",
              "\n",
              "  <style>\n",
              "    .colab-df-container {\n",
              "      display:flex;\n",
              "      gap: 12px;\n",
              "    }\n",
              "\n",
              "    .colab-df-convert {\n",
              "      background-color: #E8F0FE;\n",
              "      border: none;\n",
              "      border-radius: 50%;\n",
              "      cursor: pointer;\n",
              "      display: none;\n",
              "      fill: #1967D2;\n",
              "      height: 32px;\n",
              "      padding: 0 0 0 0;\n",
              "      width: 32px;\n",
              "    }\n",
              "\n",
              "    .colab-df-convert:hover {\n",
              "      background-color: #E2EBFA;\n",
              "      box-shadow: 0px 1px 2px rgba(60, 64, 67, 0.3), 0px 1px 3px 1px rgba(60, 64, 67, 0.15);\n",
              "      fill: #174EA6;\n",
              "    }\n",
              "\n",
              "    .colab-df-buttons div {\n",
              "      margin-bottom: 4px;\n",
              "    }\n",
              "\n",
              "    [theme=dark] .colab-df-convert {\n",
              "      background-color: #3B4455;\n",
              "      fill: #D2E3FC;\n",
              "    }\n",
              "\n",
              "    [theme=dark] .colab-df-convert:hover {\n",
              "      background-color: #434B5C;\n",
              "      box-shadow: 0px 1px 3px 1px rgba(0, 0, 0, 0.15);\n",
              "      filter: drop-shadow(0px 1px 2px rgba(0, 0, 0, 0.3));\n",
              "      fill: #FFFFFF;\n",
              "    }\n",
              "  </style>\n",
              "\n",
              "    <script>\n",
              "      const buttonEl =\n",
              "        document.querySelector('#df-c867a3ff-b182-4bba-96d6-912bdb0a4092 button.colab-df-convert');\n",
              "      buttonEl.style.display =\n",
              "        google.colab.kernel.accessAllowed ? 'block' : 'none';\n",
              "\n",
              "      async function convertToInteractive(key) {\n",
              "        const element = document.querySelector('#df-c867a3ff-b182-4bba-96d6-912bdb0a4092');\n",
              "        const dataTable =\n",
              "          await google.colab.kernel.invokeFunction('convertToInteractive',\n",
              "                                                    [key], {});\n",
              "        if (!dataTable) return;\n",
              "\n",
              "        const docLinkHtml = 'Like what you see? Visit the ' +\n",
              "          '<a target=\"_blank\" href=https://colab.research.google.com/notebooks/data_table.ipynb>data table notebook</a>'\n",
              "          + ' to learn more about interactive tables.';\n",
              "        element.innerHTML = '';\n",
              "        dataTable['output_type'] = 'display_data';\n",
              "        await google.colab.output.renderOutput(dataTable, element);\n",
              "        const docLink = document.createElement('div');\n",
              "        docLink.innerHTML = docLinkHtml;\n",
              "        element.appendChild(docLink);\n",
              "      }\n",
              "    </script>\n",
              "  </div>\n",
              "\n",
              "\n",
              "<div id=\"df-3a61b5b1-f8ec-4eff-859d-8e12e3dc3d21\">\n",
              "  <button class=\"colab-df-quickchart\" onclick=\"quickchart('df-3a61b5b1-f8ec-4eff-859d-8e12e3dc3d21')\"\n",
              "            title=\"Suggest charts\"\n",
              "            style=\"display:none;\">\n",
              "\n",
              "<svg xmlns=\"http://www.w3.org/2000/svg\" height=\"24px\"viewBox=\"0 0 24 24\"\n",
              "     width=\"24px\">\n",
              "    <g>\n",
              "        <path d=\"M19 3H5c-1.1 0-2 .9-2 2v14c0 1.1.9 2 2 2h14c1.1 0 2-.9 2-2V5c0-1.1-.9-2-2-2zM9 17H7v-7h2v7zm4 0h-2V7h2v10zm4 0h-2v-4h2v4z\"/>\n",
              "    </g>\n",
              "</svg>\n",
              "  </button>\n",
              "\n",
              "<style>\n",
              "  .colab-df-quickchart {\n",
              "      --bg-color: #E8F0FE;\n",
              "      --fill-color: #1967D2;\n",
              "      --hover-bg-color: #E2EBFA;\n",
              "      --hover-fill-color: #174EA6;\n",
              "      --disabled-fill-color: #AAA;\n",
              "      --disabled-bg-color: #DDD;\n",
              "  }\n",
              "\n",
              "  [theme=dark] .colab-df-quickchart {\n",
              "      --bg-color: #3B4455;\n",
              "      --fill-color: #D2E3FC;\n",
              "      --hover-bg-color: #434B5C;\n",
              "      --hover-fill-color: #FFFFFF;\n",
              "      --disabled-bg-color: #3B4455;\n",
              "      --disabled-fill-color: #666;\n",
              "  }\n",
              "\n",
              "  .colab-df-quickchart {\n",
              "    background-color: var(--bg-color);\n",
              "    border: none;\n",
              "    border-radius: 50%;\n",
              "    cursor: pointer;\n",
              "    display: none;\n",
              "    fill: var(--fill-color);\n",
              "    height: 32px;\n",
              "    padding: 0;\n",
              "    width: 32px;\n",
              "  }\n",
              "\n",
              "  .colab-df-quickchart:hover {\n",
              "    background-color: var(--hover-bg-color);\n",
              "    box-shadow: 0 1px 2px rgba(60, 64, 67, 0.3), 0 1px 3px 1px rgba(60, 64, 67, 0.15);\n",
              "    fill: var(--button-hover-fill-color);\n",
              "  }\n",
              "\n",
              "  .colab-df-quickchart-complete:disabled,\n",
              "  .colab-df-quickchart-complete:disabled:hover {\n",
              "    background-color: var(--disabled-bg-color);\n",
              "    fill: var(--disabled-fill-color);\n",
              "    box-shadow: none;\n",
              "  }\n",
              "\n",
              "  .colab-df-spinner {\n",
              "    border: 2px solid var(--fill-color);\n",
              "    border-color: transparent;\n",
              "    border-bottom-color: var(--fill-color);\n",
              "    animation:\n",
              "      spin 1s steps(1) infinite;\n",
              "  }\n",
              "\n",
              "  @keyframes spin {\n",
              "    0% {\n",
              "      border-color: transparent;\n",
              "      border-bottom-color: var(--fill-color);\n",
              "      border-left-color: var(--fill-color);\n",
              "    }\n",
              "    20% {\n",
              "      border-color: transparent;\n",
              "      border-left-color: var(--fill-color);\n",
              "      border-top-color: var(--fill-color);\n",
              "    }\n",
              "    30% {\n",
              "      border-color: transparent;\n",
              "      border-left-color: var(--fill-color);\n",
              "      border-top-color: var(--fill-color);\n",
              "      border-right-color: var(--fill-color);\n",
              "    }\n",
              "    40% {\n",
              "      border-color: transparent;\n",
              "      border-right-color: var(--fill-color);\n",
              "      border-top-color: var(--fill-color);\n",
              "    }\n",
              "    60% {\n",
              "      border-color: transparent;\n",
              "      border-right-color: var(--fill-color);\n",
              "    }\n",
              "    80% {\n",
              "      border-color: transparent;\n",
              "      border-right-color: var(--fill-color);\n",
              "      border-bottom-color: var(--fill-color);\n",
              "    }\n",
              "    90% {\n",
              "      border-color: transparent;\n",
              "      border-bottom-color: var(--fill-color);\n",
              "    }\n",
              "  }\n",
              "</style>\n",
              "\n",
              "  <script>\n",
              "    async function quickchart(key) {\n",
              "      const quickchartButtonEl =\n",
              "        document.querySelector('#' + key + ' button');\n",
              "      quickchartButtonEl.disabled = true;  // To prevent multiple clicks.\n",
              "      quickchartButtonEl.classList.add('colab-df-spinner');\n",
              "      try {\n",
              "        const charts = await google.colab.kernel.invokeFunction(\n",
              "            'suggestCharts', [key], {});\n",
              "      } catch (error) {\n",
              "        console.error('Error during call to suggestCharts:', error);\n",
              "      }\n",
              "      quickchartButtonEl.classList.remove('colab-df-spinner');\n",
              "      quickchartButtonEl.classList.add('colab-df-quickchart-complete');\n",
              "    }\n",
              "    (() => {\n",
              "      let quickchartButtonEl =\n",
              "        document.querySelector('#df-3a61b5b1-f8ec-4eff-859d-8e12e3dc3d21 button');\n",
              "      quickchartButtonEl.style.display =\n",
              "        google.colab.kernel.accessAllowed ? 'block' : 'none';\n",
              "    })();\n",
              "  </script>\n",
              "</div>\n",
              "\n",
              "    </div>\n",
              "  </div>\n"
            ]
          },
          "metadata": {},
          "execution_count": 20
        }
      ]
    },
    {
      "cell_type": "code",
      "source": [
        "price_Q1 = 3.430000e+06\n",
        "price_Q3 = 5.740000e+06\n",
        "price_IQR = price_Q3 - price_Q1\n"
      ],
      "metadata": {
        "id": "-CFqFIiHAT-w"
      },
      "execution_count": null,
      "outputs": []
    },
    {
      "cell_type": "code",
      "source": [
        "lower_thershold_price = price_Q1 - 1.5*price_IQR\n",
        "upper_thershold_price = price_Q3 + 1.5*price_IQR"
      ],
      "metadata": {
        "id": "SdP29UddCzh2"
      },
      "execution_count": null,
      "outputs": []
    },
    {
      "cell_type": "code",
      "source": [
        "outliers_price = df[(df['price'] < lower_thershold_price) | (df[\"price\"]> upper_thershold_price)]\n",
        "outliers_price"
      ],
      "metadata": {
        "colab": {
          "base_uri": "https://localhost:8080/",
          "height": 520
        },
        "id": "Dz59GWuyDFF4",
        "outputId": "765b7d7a-cae3-4615-a0bf-43941bf3843d"
      },
      "execution_count": null,
      "outputs": [
        {
          "output_type": "execute_result",
          "data": {
            "text/plain": [
              "       price   area  bedrooms  bathrooms  stories mainroad guestroom basement  \\\n",
              "0   13300000   7420         4          2        3      yes        no       no   \n",
              "1   12250000   8960         4          4        4      yes        no       no   \n",
              "2   12250000   9960         3          2        2      yes        no      yes   \n",
              "3   12215000   7500         4          2        2      yes        no      yes   \n",
              "4   11410000   7420         4          1        2      yes       yes      yes   \n",
              "5   10850000   7500         3          3        1      yes        no      yes   \n",
              "6   10150000   8580         4          3        4      yes        no       no   \n",
              "7   10150000  16200         5          3        2      yes        no       no   \n",
              "8    9870000   8100         4          1        2      yes       yes      yes   \n",
              "9    9800000   5750         3          2        4      yes       yes       no   \n",
              "10   9800000  13200         3          1        2      yes        no      yes   \n",
              "11   9681000   6000         4          3        2      yes       yes      yes   \n",
              "12   9310000   6550         4          2        2      yes        no       no   \n",
              "13   9240000   3500         4          2        2      yes        no       no   \n",
              "14   9240000   7800         3          2        2      yes        no       no   \n",
              "\n",
              "   hotwaterheating airconditioning  parking prefarea furnishingstatus  \n",
              "0               no             yes        2      yes        furnished  \n",
              "1               no             yes        3       no        furnished  \n",
              "2               no              no        2      yes   semi-furnished  \n",
              "3               no             yes        3      yes        furnished  \n",
              "4               no             yes        2       no        furnished  \n",
              "5               no             yes        2      yes   semi-furnished  \n",
              "6               no             yes        2      yes   semi-furnished  \n",
              "7               no              no        0       no      unfurnished  \n",
              "8               no             yes        2      yes        furnished  \n",
              "9               no             yes        1      yes      unfurnished  \n",
              "10              no             yes        2      yes        furnished  \n",
              "11             yes              no        2       no   semi-furnished  \n",
              "12              no             yes        1      yes   semi-furnished  \n",
              "13             yes              no        2       no        furnished  \n",
              "14              no              no        0      yes   semi-furnished  "
            ],
            "text/html": [
              "\n",
              "  <div id=\"df-8b958a10-8222-4297-9497-c91126766374\" class=\"colab-df-container\">\n",
              "    <div>\n",
              "<style scoped>\n",
              "    .dataframe tbody tr th:only-of-type {\n",
              "        vertical-align: middle;\n",
              "    }\n",
              "\n",
              "    .dataframe tbody tr th {\n",
              "        vertical-align: top;\n",
              "    }\n",
              "\n",
              "    .dataframe thead th {\n",
              "        text-align: right;\n",
              "    }\n",
              "</style>\n",
              "<table border=\"1\" class=\"dataframe\">\n",
              "  <thead>\n",
              "    <tr style=\"text-align: right;\">\n",
              "      <th></th>\n",
              "      <th>price</th>\n",
              "      <th>area</th>\n",
              "      <th>bedrooms</th>\n",
              "      <th>bathrooms</th>\n",
              "      <th>stories</th>\n",
              "      <th>mainroad</th>\n",
              "      <th>guestroom</th>\n",
              "      <th>basement</th>\n",
              "      <th>hotwaterheating</th>\n",
              "      <th>airconditioning</th>\n",
              "      <th>parking</th>\n",
              "      <th>prefarea</th>\n",
              "      <th>furnishingstatus</th>\n",
              "    </tr>\n",
              "  </thead>\n",
              "  <tbody>\n",
              "    <tr>\n",
              "      <th>0</th>\n",
              "      <td>13300000</td>\n",
              "      <td>7420</td>\n",
              "      <td>4</td>\n",
              "      <td>2</td>\n",
              "      <td>3</td>\n",
              "      <td>yes</td>\n",
              "      <td>no</td>\n",
              "      <td>no</td>\n",
              "      <td>no</td>\n",
              "      <td>yes</td>\n",
              "      <td>2</td>\n",
              "      <td>yes</td>\n",
              "      <td>furnished</td>\n",
              "    </tr>\n",
              "    <tr>\n",
              "      <th>1</th>\n",
              "      <td>12250000</td>\n",
              "      <td>8960</td>\n",
              "      <td>4</td>\n",
              "      <td>4</td>\n",
              "      <td>4</td>\n",
              "      <td>yes</td>\n",
              "      <td>no</td>\n",
              "      <td>no</td>\n",
              "      <td>no</td>\n",
              "      <td>yes</td>\n",
              "      <td>3</td>\n",
              "      <td>no</td>\n",
              "      <td>furnished</td>\n",
              "    </tr>\n",
              "    <tr>\n",
              "      <th>2</th>\n",
              "      <td>12250000</td>\n",
              "      <td>9960</td>\n",
              "      <td>3</td>\n",
              "      <td>2</td>\n",
              "      <td>2</td>\n",
              "      <td>yes</td>\n",
              "      <td>no</td>\n",
              "      <td>yes</td>\n",
              "      <td>no</td>\n",
              "      <td>no</td>\n",
              "      <td>2</td>\n",
              "      <td>yes</td>\n",
              "      <td>semi-furnished</td>\n",
              "    </tr>\n",
              "    <tr>\n",
              "      <th>3</th>\n",
              "      <td>12215000</td>\n",
              "      <td>7500</td>\n",
              "      <td>4</td>\n",
              "      <td>2</td>\n",
              "      <td>2</td>\n",
              "      <td>yes</td>\n",
              "      <td>no</td>\n",
              "      <td>yes</td>\n",
              "      <td>no</td>\n",
              "      <td>yes</td>\n",
              "      <td>3</td>\n",
              "      <td>yes</td>\n",
              "      <td>furnished</td>\n",
              "    </tr>\n",
              "    <tr>\n",
              "      <th>4</th>\n",
              "      <td>11410000</td>\n",
              "      <td>7420</td>\n",
              "      <td>4</td>\n",
              "      <td>1</td>\n",
              "      <td>2</td>\n",
              "      <td>yes</td>\n",
              "      <td>yes</td>\n",
              "      <td>yes</td>\n",
              "      <td>no</td>\n",
              "      <td>yes</td>\n",
              "      <td>2</td>\n",
              "      <td>no</td>\n",
              "      <td>furnished</td>\n",
              "    </tr>\n",
              "    <tr>\n",
              "      <th>5</th>\n",
              "      <td>10850000</td>\n",
              "      <td>7500</td>\n",
              "      <td>3</td>\n",
              "      <td>3</td>\n",
              "      <td>1</td>\n",
              "      <td>yes</td>\n",
              "      <td>no</td>\n",
              "      <td>yes</td>\n",
              "      <td>no</td>\n",
              "      <td>yes</td>\n",
              "      <td>2</td>\n",
              "      <td>yes</td>\n",
              "      <td>semi-furnished</td>\n",
              "    </tr>\n",
              "    <tr>\n",
              "      <th>6</th>\n",
              "      <td>10150000</td>\n",
              "      <td>8580</td>\n",
              "      <td>4</td>\n",
              "      <td>3</td>\n",
              "      <td>4</td>\n",
              "      <td>yes</td>\n",
              "      <td>no</td>\n",
              "      <td>no</td>\n",
              "      <td>no</td>\n",
              "      <td>yes</td>\n",
              "      <td>2</td>\n",
              "      <td>yes</td>\n",
              "      <td>semi-furnished</td>\n",
              "    </tr>\n",
              "    <tr>\n",
              "      <th>7</th>\n",
              "      <td>10150000</td>\n",
              "      <td>16200</td>\n",
              "      <td>5</td>\n",
              "      <td>3</td>\n",
              "      <td>2</td>\n",
              "      <td>yes</td>\n",
              "      <td>no</td>\n",
              "      <td>no</td>\n",
              "      <td>no</td>\n",
              "      <td>no</td>\n",
              "      <td>0</td>\n",
              "      <td>no</td>\n",
              "      <td>unfurnished</td>\n",
              "    </tr>\n",
              "    <tr>\n",
              "      <th>8</th>\n",
              "      <td>9870000</td>\n",
              "      <td>8100</td>\n",
              "      <td>4</td>\n",
              "      <td>1</td>\n",
              "      <td>2</td>\n",
              "      <td>yes</td>\n",
              "      <td>yes</td>\n",
              "      <td>yes</td>\n",
              "      <td>no</td>\n",
              "      <td>yes</td>\n",
              "      <td>2</td>\n",
              "      <td>yes</td>\n",
              "      <td>furnished</td>\n",
              "    </tr>\n",
              "    <tr>\n",
              "      <th>9</th>\n",
              "      <td>9800000</td>\n",
              "      <td>5750</td>\n",
              "      <td>3</td>\n",
              "      <td>2</td>\n",
              "      <td>4</td>\n",
              "      <td>yes</td>\n",
              "      <td>yes</td>\n",
              "      <td>no</td>\n",
              "      <td>no</td>\n",
              "      <td>yes</td>\n",
              "      <td>1</td>\n",
              "      <td>yes</td>\n",
              "      <td>unfurnished</td>\n",
              "    </tr>\n",
              "    <tr>\n",
              "      <th>10</th>\n",
              "      <td>9800000</td>\n",
              "      <td>13200</td>\n",
              "      <td>3</td>\n",
              "      <td>1</td>\n",
              "      <td>2</td>\n",
              "      <td>yes</td>\n",
              "      <td>no</td>\n",
              "      <td>yes</td>\n",
              "      <td>no</td>\n",
              "      <td>yes</td>\n",
              "      <td>2</td>\n",
              "      <td>yes</td>\n",
              "      <td>furnished</td>\n",
              "    </tr>\n",
              "    <tr>\n",
              "      <th>11</th>\n",
              "      <td>9681000</td>\n",
              "      <td>6000</td>\n",
              "      <td>4</td>\n",
              "      <td>3</td>\n",
              "      <td>2</td>\n",
              "      <td>yes</td>\n",
              "      <td>yes</td>\n",
              "      <td>yes</td>\n",
              "      <td>yes</td>\n",
              "      <td>no</td>\n",
              "      <td>2</td>\n",
              "      <td>no</td>\n",
              "      <td>semi-furnished</td>\n",
              "    </tr>\n",
              "    <tr>\n",
              "      <th>12</th>\n",
              "      <td>9310000</td>\n",
              "      <td>6550</td>\n",
              "      <td>4</td>\n",
              "      <td>2</td>\n",
              "      <td>2</td>\n",
              "      <td>yes</td>\n",
              "      <td>no</td>\n",
              "      <td>no</td>\n",
              "      <td>no</td>\n",
              "      <td>yes</td>\n",
              "      <td>1</td>\n",
              "      <td>yes</td>\n",
              "      <td>semi-furnished</td>\n",
              "    </tr>\n",
              "    <tr>\n",
              "      <th>13</th>\n",
              "      <td>9240000</td>\n",
              "      <td>3500</td>\n",
              "      <td>4</td>\n",
              "      <td>2</td>\n",
              "      <td>2</td>\n",
              "      <td>yes</td>\n",
              "      <td>no</td>\n",
              "      <td>no</td>\n",
              "      <td>yes</td>\n",
              "      <td>no</td>\n",
              "      <td>2</td>\n",
              "      <td>no</td>\n",
              "      <td>furnished</td>\n",
              "    </tr>\n",
              "    <tr>\n",
              "      <th>14</th>\n",
              "      <td>9240000</td>\n",
              "      <td>7800</td>\n",
              "      <td>3</td>\n",
              "      <td>2</td>\n",
              "      <td>2</td>\n",
              "      <td>yes</td>\n",
              "      <td>no</td>\n",
              "      <td>no</td>\n",
              "      <td>no</td>\n",
              "      <td>no</td>\n",
              "      <td>0</td>\n",
              "      <td>yes</td>\n",
              "      <td>semi-furnished</td>\n",
              "    </tr>\n",
              "  </tbody>\n",
              "</table>\n",
              "</div>\n",
              "    <div class=\"colab-df-buttons\">\n",
              "\n",
              "  <div class=\"colab-df-container\">\n",
              "    <button class=\"colab-df-convert\" onclick=\"convertToInteractive('df-8b958a10-8222-4297-9497-c91126766374')\"\n",
              "            title=\"Convert this dataframe to an interactive table.\"\n",
              "            style=\"display:none;\">\n",
              "\n",
              "  <svg xmlns=\"http://www.w3.org/2000/svg\" height=\"24px\" viewBox=\"0 -960 960 960\">\n",
              "    <path d=\"M120-120v-720h720v720H120Zm60-500h600v-160H180v160Zm220 220h160v-160H400v160Zm0 220h160v-160H400v160ZM180-400h160v-160H180v160Zm440 0h160v-160H620v160ZM180-180h160v-160H180v160Zm440 0h160v-160H620v160Z\"/>\n",
              "  </svg>\n",
              "    </button>\n",
              "\n",
              "  <style>\n",
              "    .colab-df-container {\n",
              "      display:flex;\n",
              "      gap: 12px;\n",
              "    }\n",
              "\n",
              "    .colab-df-convert {\n",
              "      background-color: #E8F0FE;\n",
              "      border: none;\n",
              "      border-radius: 50%;\n",
              "      cursor: pointer;\n",
              "      display: none;\n",
              "      fill: #1967D2;\n",
              "      height: 32px;\n",
              "      padding: 0 0 0 0;\n",
              "      width: 32px;\n",
              "    }\n",
              "\n",
              "    .colab-df-convert:hover {\n",
              "      background-color: #E2EBFA;\n",
              "      box-shadow: 0px 1px 2px rgba(60, 64, 67, 0.3), 0px 1px 3px 1px rgba(60, 64, 67, 0.15);\n",
              "      fill: #174EA6;\n",
              "    }\n",
              "\n",
              "    .colab-df-buttons div {\n",
              "      margin-bottom: 4px;\n",
              "    }\n",
              "\n",
              "    [theme=dark] .colab-df-convert {\n",
              "      background-color: #3B4455;\n",
              "      fill: #D2E3FC;\n",
              "    }\n",
              "\n",
              "    [theme=dark] .colab-df-convert:hover {\n",
              "      background-color: #434B5C;\n",
              "      box-shadow: 0px 1px 3px 1px rgba(0, 0, 0, 0.15);\n",
              "      filter: drop-shadow(0px 1px 2px rgba(0, 0, 0, 0.3));\n",
              "      fill: #FFFFFF;\n",
              "    }\n",
              "  </style>\n",
              "\n",
              "    <script>\n",
              "      const buttonEl =\n",
              "        document.querySelector('#df-8b958a10-8222-4297-9497-c91126766374 button.colab-df-convert');\n",
              "      buttonEl.style.display =\n",
              "        google.colab.kernel.accessAllowed ? 'block' : 'none';\n",
              "\n",
              "      async function convertToInteractive(key) {\n",
              "        const element = document.querySelector('#df-8b958a10-8222-4297-9497-c91126766374');\n",
              "        const dataTable =\n",
              "          await google.colab.kernel.invokeFunction('convertToInteractive',\n",
              "                                                    [key], {});\n",
              "        if (!dataTable) return;\n",
              "\n",
              "        const docLinkHtml = 'Like what you see? Visit the ' +\n",
              "          '<a target=\"_blank\" href=https://colab.research.google.com/notebooks/data_table.ipynb>data table notebook</a>'\n",
              "          + ' to learn more about interactive tables.';\n",
              "        element.innerHTML = '';\n",
              "        dataTable['output_type'] = 'display_data';\n",
              "        await google.colab.output.renderOutput(dataTable, element);\n",
              "        const docLink = document.createElement('div');\n",
              "        docLink.innerHTML = docLinkHtml;\n",
              "        element.appendChild(docLink);\n",
              "      }\n",
              "    </script>\n",
              "  </div>\n",
              "\n",
              "\n",
              "<div id=\"df-9ca317fb-ced6-4af1-99f8-bbd74d694a2a\">\n",
              "  <button class=\"colab-df-quickchart\" onclick=\"quickchart('df-9ca317fb-ced6-4af1-99f8-bbd74d694a2a')\"\n",
              "            title=\"Suggest charts\"\n",
              "            style=\"display:none;\">\n",
              "\n",
              "<svg xmlns=\"http://www.w3.org/2000/svg\" height=\"24px\"viewBox=\"0 0 24 24\"\n",
              "     width=\"24px\">\n",
              "    <g>\n",
              "        <path d=\"M19 3H5c-1.1 0-2 .9-2 2v14c0 1.1.9 2 2 2h14c1.1 0 2-.9 2-2V5c0-1.1-.9-2-2-2zM9 17H7v-7h2v7zm4 0h-2V7h2v10zm4 0h-2v-4h2v4z\"/>\n",
              "    </g>\n",
              "</svg>\n",
              "  </button>\n",
              "\n",
              "<style>\n",
              "  .colab-df-quickchart {\n",
              "      --bg-color: #E8F0FE;\n",
              "      --fill-color: #1967D2;\n",
              "      --hover-bg-color: #E2EBFA;\n",
              "      --hover-fill-color: #174EA6;\n",
              "      --disabled-fill-color: #AAA;\n",
              "      --disabled-bg-color: #DDD;\n",
              "  }\n",
              "\n",
              "  [theme=dark] .colab-df-quickchart {\n",
              "      --bg-color: #3B4455;\n",
              "      --fill-color: #D2E3FC;\n",
              "      --hover-bg-color: #434B5C;\n",
              "      --hover-fill-color: #FFFFFF;\n",
              "      --disabled-bg-color: #3B4455;\n",
              "      --disabled-fill-color: #666;\n",
              "  }\n",
              "\n",
              "  .colab-df-quickchart {\n",
              "    background-color: var(--bg-color);\n",
              "    border: none;\n",
              "    border-radius: 50%;\n",
              "    cursor: pointer;\n",
              "    display: none;\n",
              "    fill: var(--fill-color);\n",
              "    height: 32px;\n",
              "    padding: 0;\n",
              "    width: 32px;\n",
              "  }\n",
              "\n",
              "  .colab-df-quickchart:hover {\n",
              "    background-color: var(--hover-bg-color);\n",
              "    box-shadow: 0 1px 2px rgba(60, 64, 67, 0.3), 0 1px 3px 1px rgba(60, 64, 67, 0.15);\n",
              "    fill: var(--button-hover-fill-color);\n",
              "  }\n",
              "\n",
              "  .colab-df-quickchart-complete:disabled,\n",
              "  .colab-df-quickchart-complete:disabled:hover {\n",
              "    background-color: var(--disabled-bg-color);\n",
              "    fill: var(--disabled-fill-color);\n",
              "    box-shadow: none;\n",
              "  }\n",
              "\n",
              "  .colab-df-spinner {\n",
              "    border: 2px solid var(--fill-color);\n",
              "    border-color: transparent;\n",
              "    border-bottom-color: var(--fill-color);\n",
              "    animation:\n",
              "      spin 1s steps(1) infinite;\n",
              "  }\n",
              "\n",
              "  @keyframes spin {\n",
              "    0% {\n",
              "      border-color: transparent;\n",
              "      border-bottom-color: var(--fill-color);\n",
              "      border-left-color: var(--fill-color);\n",
              "    }\n",
              "    20% {\n",
              "      border-color: transparent;\n",
              "      border-left-color: var(--fill-color);\n",
              "      border-top-color: var(--fill-color);\n",
              "    }\n",
              "    30% {\n",
              "      border-color: transparent;\n",
              "      border-left-color: var(--fill-color);\n",
              "      border-top-color: var(--fill-color);\n",
              "      border-right-color: var(--fill-color);\n",
              "    }\n",
              "    40% {\n",
              "      border-color: transparent;\n",
              "      border-right-color: var(--fill-color);\n",
              "      border-top-color: var(--fill-color);\n",
              "    }\n",
              "    60% {\n",
              "      border-color: transparent;\n",
              "      border-right-color: var(--fill-color);\n",
              "    }\n",
              "    80% {\n",
              "      border-color: transparent;\n",
              "      border-right-color: var(--fill-color);\n",
              "      border-bottom-color: var(--fill-color);\n",
              "    }\n",
              "    90% {\n",
              "      border-color: transparent;\n",
              "      border-bottom-color: var(--fill-color);\n",
              "    }\n",
              "  }\n",
              "</style>\n",
              "\n",
              "  <script>\n",
              "    async function quickchart(key) {\n",
              "      const quickchartButtonEl =\n",
              "        document.querySelector('#' + key + ' button');\n",
              "      quickchartButtonEl.disabled = true;  // To prevent multiple clicks.\n",
              "      quickchartButtonEl.classList.add('colab-df-spinner');\n",
              "      try {\n",
              "        const charts = await google.colab.kernel.invokeFunction(\n",
              "            'suggestCharts', [key], {});\n",
              "      } catch (error) {\n",
              "        console.error('Error during call to suggestCharts:', error);\n",
              "      }\n",
              "      quickchartButtonEl.classList.remove('colab-df-spinner');\n",
              "      quickchartButtonEl.classList.add('colab-df-quickchart-complete');\n",
              "    }\n",
              "    (() => {\n",
              "      let quickchartButtonEl =\n",
              "        document.querySelector('#df-9ca317fb-ced6-4af1-99f8-bbd74d694a2a button');\n",
              "      quickchartButtonEl.style.display =\n",
              "        google.colab.kernel.accessAllowed ? 'block' : 'none';\n",
              "    })();\n",
              "  </script>\n",
              "</div>\n",
              "\n",
              "  <div id=\"id_6fbc7edc-1fd1-4053-aad7-8864349cd828\">\n",
              "    <style>\n",
              "      .colab-df-generate {\n",
              "        background-color: #E8F0FE;\n",
              "        border: none;\n",
              "        border-radius: 50%;\n",
              "        cursor: pointer;\n",
              "        display: none;\n",
              "        fill: #1967D2;\n",
              "        height: 32px;\n",
              "        padding: 0 0 0 0;\n",
              "        width: 32px;\n",
              "      }\n",
              "\n",
              "      .colab-df-generate:hover {\n",
              "        background-color: #E2EBFA;\n",
              "        box-shadow: 0px 1px 2px rgba(60, 64, 67, 0.3), 0px 1px 3px 1px rgba(60, 64, 67, 0.15);\n",
              "        fill: #174EA6;\n",
              "      }\n",
              "\n",
              "      [theme=dark] .colab-df-generate {\n",
              "        background-color: #3B4455;\n",
              "        fill: #D2E3FC;\n",
              "      }\n",
              "\n",
              "      [theme=dark] .colab-df-generate:hover {\n",
              "        background-color: #434B5C;\n",
              "        box-shadow: 0px 1px 3px 1px rgba(0, 0, 0, 0.15);\n",
              "        filter: drop-shadow(0px 1px 2px rgba(0, 0, 0, 0.3));\n",
              "        fill: #FFFFFF;\n",
              "      }\n",
              "    </style>\n",
              "    <button class=\"colab-df-generate\" onclick=\"generateWithVariable('outliers_price')\"\n",
              "            title=\"Generate code using this dataframe.\"\n",
              "            style=\"display:none;\">\n",
              "\n",
              "  <svg xmlns=\"http://www.w3.org/2000/svg\" height=\"24px\"viewBox=\"0 0 24 24\"\n",
              "       width=\"24px\">\n",
              "    <path d=\"M7,19H8.4L18.45,9,17,7.55,7,17.6ZM5,21V16.75L18.45,3.32a2,2,0,0,1,2.83,0l1.4,1.43a1.91,1.91,0,0,1,.58,1.4,1.91,1.91,0,0,1-.58,1.4L9.25,21ZM18.45,9,17,7.55Zm-12,3A5.31,5.31,0,0,0,4.9,8.1,5.31,5.31,0,0,0,1,6.5,5.31,5.31,0,0,0,4.9,4.9,5.31,5.31,0,0,0,6.5,1,5.31,5.31,0,0,0,8.1,4.9,5.31,5.31,0,0,0,12,6.5,5.46,5.46,0,0,0,6.5,12Z\"/>\n",
              "  </svg>\n",
              "    </button>\n",
              "    <script>\n",
              "      (() => {\n",
              "      const buttonEl =\n",
              "        document.querySelector('#id_6fbc7edc-1fd1-4053-aad7-8864349cd828 button.colab-df-generate');\n",
              "      buttonEl.style.display =\n",
              "        google.colab.kernel.accessAllowed ? 'block' : 'none';\n",
              "\n",
              "      buttonEl.onclick = () => {\n",
              "        google.colab.notebook.generateWithVariable('outliers_price');\n",
              "      }\n",
              "      })();\n",
              "    </script>\n",
              "  </div>\n",
              "\n",
              "    </div>\n",
              "  </div>\n"
            ]
          },
          "metadata": {},
          "execution_count": 23
        }
      ]
    },
    {
      "cell_type": "code",
      "source": [
        "area_Q1 = 3600.000000\n",
        "area_Q3 = 6360.000000\n",
        "area_IQR = area_Q3 - area_Q1"
      ],
      "metadata": {
        "id": "Pt6w7U1PD4m0"
      },
      "execution_count": null,
      "outputs": []
    },
    {
      "cell_type": "code",
      "source": [
        "lower_thershold_area = area_Q1 - 1.5*area_IQR\n",
        "upper_thershold_area = area_Q3 + 1.5*area_IQR"
      ],
      "metadata": {
        "id": "9ZlUU3nwEuE2"
      },
      "execution_count": null,
      "outputs": []
    },
    {
      "cell_type": "code",
      "source": [
        "outliers_area = df[(df['area'] < lower_thershold_area) | (df[\"area\"]> upper_thershold_area)]\n",
        "outliers_area"
      ],
      "metadata": {
        "colab": {
          "base_uri": "https://localhost:8080/",
          "height": 426
        },
        "id": "5fs6hz9EE7B5",
        "outputId": "3eafda6f-df48-4d11-fe2c-6fd418696a17"
      },
      "execution_count": null,
      "outputs": [
        {
          "output_type": "execute_result",
          "data": {
            "text/plain": [
              "        price   area  bedrooms  bathrooms  stories mainroad guestroom  \\\n",
              "7    10150000  16200         5          3        2      yes        no   \n",
              "10    9800000  13200         3          1        2      yes        no   \n",
              "56    7343000  11440         4          1        2      yes        no   \n",
              "64    7000000  11175         3          1        1      yes        no   \n",
              "66    6930000  13200         2          1        1      yes        no   \n",
              "69    6790000  12090         4          2        2      yes        no   \n",
              "125   5943000  15600         3          1        1      yes        no   \n",
              "129   5873000  11460         3          1        3      yes        no   \n",
              "186   5110000  11410         2          1        2      yes        no   \n",
              "191   5040000  10700         3          1        2      yes       yes   \n",
              "211   4900000  12900         3          1        1      yes        no   \n",
              "403   3500000  12944         3          1        1      yes        no   \n",
              "\n",
              "    basement hotwaterheating airconditioning  parking prefarea  \\\n",
              "7         no              no              no        0       no   \n",
              "10       yes              no             yes        2      yes   \n",
              "56       yes              no              no        1      yes   \n",
              "64       yes              no             yes        1      yes   \n",
              "66       yes             yes              no        1       no   \n",
              "69        no              no              no        2      yes   \n",
              "125       no              no             yes        2       no   \n",
              "129       no              no              no        2      yes   \n",
              "186       no              no              no        0      yes   \n",
              "191      yes              no              no        0       no   \n",
              "211       no              no              no        2       no   \n",
              "403       no              no              no        0       no   \n",
              "\n",
              "    furnishingstatus  \n",
              "7        unfurnished  \n",
              "10         furnished  \n",
              "56    semi-furnished  \n",
              "64         furnished  \n",
              "66         furnished  \n",
              "69         furnished  \n",
              "125   semi-furnished  \n",
              "129   semi-furnished  \n",
              "186        furnished  \n",
              "191   semi-furnished  \n",
              "211        furnished  \n",
              "403      unfurnished  "
            ],
            "text/html": [
              "\n",
              "  <div id=\"df-faac3f82-dce6-4cbb-82a7-56c741a6d1f9\" class=\"colab-df-container\">\n",
              "    <div>\n",
              "<style scoped>\n",
              "    .dataframe tbody tr th:only-of-type {\n",
              "        vertical-align: middle;\n",
              "    }\n",
              "\n",
              "    .dataframe tbody tr th {\n",
              "        vertical-align: top;\n",
              "    }\n",
              "\n",
              "    .dataframe thead th {\n",
              "        text-align: right;\n",
              "    }\n",
              "</style>\n",
              "<table border=\"1\" class=\"dataframe\">\n",
              "  <thead>\n",
              "    <tr style=\"text-align: right;\">\n",
              "      <th></th>\n",
              "      <th>price</th>\n",
              "      <th>area</th>\n",
              "      <th>bedrooms</th>\n",
              "      <th>bathrooms</th>\n",
              "      <th>stories</th>\n",
              "      <th>mainroad</th>\n",
              "      <th>guestroom</th>\n",
              "      <th>basement</th>\n",
              "      <th>hotwaterheating</th>\n",
              "      <th>airconditioning</th>\n",
              "      <th>parking</th>\n",
              "      <th>prefarea</th>\n",
              "      <th>furnishingstatus</th>\n",
              "    </tr>\n",
              "  </thead>\n",
              "  <tbody>\n",
              "    <tr>\n",
              "      <th>7</th>\n",
              "      <td>10150000</td>\n",
              "      <td>16200</td>\n",
              "      <td>5</td>\n",
              "      <td>3</td>\n",
              "      <td>2</td>\n",
              "      <td>yes</td>\n",
              "      <td>no</td>\n",
              "      <td>no</td>\n",
              "      <td>no</td>\n",
              "      <td>no</td>\n",
              "      <td>0</td>\n",
              "      <td>no</td>\n",
              "      <td>unfurnished</td>\n",
              "    </tr>\n",
              "    <tr>\n",
              "      <th>10</th>\n",
              "      <td>9800000</td>\n",
              "      <td>13200</td>\n",
              "      <td>3</td>\n",
              "      <td>1</td>\n",
              "      <td>2</td>\n",
              "      <td>yes</td>\n",
              "      <td>no</td>\n",
              "      <td>yes</td>\n",
              "      <td>no</td>\n",
              "      <td>yes</td>\n",
              "      <td>2</td>\n",
              "      <td>yes</td>\n",
              "      <td>furnished</td>\n",
              "    </tr>\n",
              "    <tr>\n",
              "      <th>56</th>\n",
              "      <td>7343000</td>\n",
              "      <td>11440</td>\n",
              "      <td>4</td>\n",
              "      <td>1</td>\n",
              "      <td>2</td>\n",
              "      <td>yes</td>\n",
              "      <td>no</td>\n",
              "      <td>yes</td>\n",
              "      <td>no</td>\n",
              "      <td>no</td>\n",
              "      <td>1</td>\n",
              "      <td>yes</td>\n",
              "      <td>semi-furnished</td>\n",
              "    </tr>\n",
              "    <tr>\n",
              "      <th>64</th>\n",
              "      <td>7000000</td>\n",
              "      <td>11175</td>\n",
              "      <td>3</td>\n",
              "      <td>1</td>\n",
              "      <td>1</td>\n",
              "      <td>yes</td>\n",
              "      <td>no</td>\n",
              "      <td>yes</td>\n",
              "      <td>no</td>\n",
              "      <td>yes</td>\n",
              "      <td>1</td>\n",
              "      <td>yes</td>\n",
              "      <td>furnished</td>\n",
              "    </tr>\n",
              "    <tr>\n",
              "      <th>66</th>\n",
              "      <td>6930000</td>\n",
              "      <td>13200</td>\n",
              "      <td>2</td>\n",
              "      <td>1</td>\n",
              "      <td>1</td>\n",
              "      <td>yes</td>\n",
              "      <td>no</td>\n",
              "      <td>yes</td>\n",
              "      <td>yes</td>\n",
              "      <td>no</td>\n",
              "      <td>1</td>\n",
              "      <td>no</td>\n",
              "      <td>furnished</td>\n",
              "    </tr>\n",
              "    <tr>\n",
              "      <th>69</th>\n",
              "      <td>6790000</td>\n",
              "      <td>12090</td>\n",
              "      <td>4</td>\n",
              "      <td>2</td>\n",
              "      <td>2</td>\n",
              "      <td>yes</td>\n",
              "      <td>no</td>\n",
              "      <td>no</td>\n",
              "      <td>no</td>\n",
              "      <td>no</td>\n",
              "      <td>2</td>\n",
              "      <td>yes</td>\n",
              "      <td>furnished</td>\n",
              "    </tr>\n",
              "    <tr>\n",
              "      <th>125</th>\n",
              "      <td>5943000</td>\n",
              "      <td>15600</td>\n",
              "      <td>3</td>\n",
              "      <td>1</td>\n",
              "      <td>1</td>\n",
              "      <td>yes</td>\n",
              "      <td>no</td>\n",
              "      <td>no</td>\n",
              "      <td>no</td>\n",
              "      <td>yes</td>\n",
              "      <td>2</td>\n",
              "      <td>no</td>\n",
              "      <td>semi-furnished</td>\n",
              "    </tr>\n",
              "    <tr>\n",
              "      <th>129</th>\n",
              "      <td>5873000</td>\n",
              "      <td>11460</td>\n",
              "      <td>3</td>\n",
              "      <td>1</td>\n",
              "      <td>3</td>\n",
              "      <td>yes</td>\n",
              "      <td>no</td>\n",
              "      <td>no</td>\n",
              "      <td>no</td>\n",
              "      <td>no</td>\n",
              "      <td>2</td>\n",
              "      <td>yes</td>\n",
              "      <td>semi-furnished</td>\n",
              "    </tr>\n",
              "    <tr>\n",
              "      <th>186</th>\n",
              "      <td>5110000</td>\n",
              "      <td>11410</td>\n",
              "      <td>2</td>\n",
              "      <td>1</td>\n",
              "      <td>2</td>\n",
              "      <td>yes</td>\n",
              "      <td>no</td>\n",
              "      <td>no</td>\n",
              "      <td>no</td>\n",
              "      <td>no</td>\n",
              "      <td>0</td>\n",
              "      <td>yes</td>\n",
              "      <td>furnished</td>\n",
              "    </tr>\n",
              "    <tr>\n",
              "      <th>191</th>\n",
              "      <td>5040000</td>\n",
              "      <td>10700</td>\n",
              "      <td>3</td>\n",
              "      <td>1</td>\n",
              "      <td>2</td>\n",
              "      <td>yes</td>\n",
              "      <td>yes</td>\n",
              "      <td>yes</td>\n",
              "      <td>no</td>\n",
              "      <td>no</td>\n",
              "      <td>0</td>\n",
              "      <td>no</td>\n",
              "      <td>semi-furnished</td>\n",
              "    </tr>\n",
              "    <tr>\n",
              "      <th>211</th>\n",
              "      <td>4900000</td>\n",
              "      <td>12900</td>\n",
              "      <td>3</td>\n",
              "      <td>1</td>\n",
              "      <td>1</td>\n",
              "      <td>yes</td>\n",
              "      <td>no</td>\n",
              "      <td>no</td>\n",
              "      <td>no</td>\n",
              "      <td>no</td>\n",
              "      <td>2</td>\n",
              "      <td>no</td>\n",
              "      <td>furnished</td>\n",
              "    </tr>\n",
              "    <tr>\n",
              "      <th>403</th>\n",
              "      <td>3500000</td>\n",
              "      <td>12944</td>\n",
              "      <td>3</td>\n",
              "      <td>1</td>\n",
              "      <td>1</td>\n",
              "      <td>yes</td>\n",
              "      <td>no</td>\n",
              "      <td>no</td>\n",
              "      <td>no</td>\n",
              "      <td>no</td>\n",
              "      <td>0</td>\n",
              "      <td>no</td>\n",
              "      <td>unfurnished</td>\n",
              "    </tr>\n",
              "  </tbody>\n",
              "</table>\n",
              "</div>\n",
              "    <div class=\"colab-df-buttons\">\n",
              "\n",
              "  <div class=\"colab-df-container\">\n",
              "    <button class=\"colab-df-convert\" onclick=\"convertToInteractive('df-faac3f82-dce6-4cbb-82a7-56c741a6d1f9')\"\n",
              "            title=\"Convert this dataframe to an interactive table.\"\n",
              "            style=\"display:none;\">\n",
              "\n",
              "  <svg xmlns=\"http://www.w3.org/2000/svg\" height=\"24px\" viewBox=\"0 -960 960 960\">\n",
              "    <path d=\"M120-120v-720h720v720H120Zm60-500h600v-160H180v160Zm220 220h160v-160H400v160Zm0 220h160v-160H400v160ZM180-400h160v-160H180v160Zm440 0h160v-160H620v160ZM180-180h160v-160H180v160Zm440 0h160v-160H620v160Z\"/>\n",
              "  </svg>\n",
              "    </button>\n",
              "\n",
              "  <style>\n",
              "    .colab-df-container {\n",
              "      display:flex;\n",
              "      gap: 12px;\n",
              "    }\n",
              "\n",
              "    .colab-df-convert {\n",
              "      background-color: #E8F0FE;\n",
              "      border: none;\n",
              "      border-radius: 50%;\n",
              "      cursor: pointer;\n",
              "      display: none;\n",
              "      fill: #1967D2;\n",
              "      height: 32px;\n",
              "      padding: 0 0 0 0;\n",
              "      width: 32px;\n",
              "    }\n",
              "\n",
              "    .colab-df-convert:hover {\n",
              "      background-color: #E2EBFA;\n",
              "      box-shadow: 0px 1px 2px rgba(60, 64, 67, 0.3), 0px 1px 3px 1px rgba(60, 64, 67, 0.15);\n",
              "      fill: #174EA6;\n",
              "    }\n",
              "\n",
              "    .colab-df-buttons div {\n",
              "      margin-bottom: 4px;\n",
              "    }\n",
              "\n",
              "    [theme=dark] .colab-df-convert {\n",
              "      background-color: #3B4455;\n",
              "      fill: #D2E3FC;\n",
              "    }\n",
              "\n",
              "    [theme=dark] .colab-df-convert:hover {\n",
              "      background-color: #434B5C;\n",
              "      box-shadow: 0px 1px 3px 1px rgba(0, 0, 0, 0.15);\n",
              "      filter: drop-shadow(0px 1px 2px rgba(0, 0, 0, 0.3));\n",
              "      fill: #FFFFFF;\n",
              "    }\n",
              "  </style>\n",
              "\n",
              "    <script>\n",
              "      const buttonEl =\n",
              "        document.querySelector('#df-faac3f82-dce6-4cbb-82a7-56c741a6d1f9 button.colab-df-convert');\n",
              "      buttonEl.style.display =\n",
              "        google.colab.kernel.accessAllowed ? 'block' : 'none';\n",
              "\n",
              "      async function convertToInteractive(key) {\n",
              "        const element = document.querySelector('#df-faac3f82-dce6-4cbb-82a7-56c741a6d1f9');\n",
              "        const dataTable =\n",
              "          await google.colab.kernel.invokeFunction('convertToInteractive',\n",
              "                                                    [key], {});\n",
              "        if (!dataTable) return;\n",
              "\n",
              "        const docLinkHtml = 'Like what you see? Visit the ' +\n",
              "          '<a target=\"_blank\" href=https://colab.research.google.com/notebooks/data_table.ipynb>data table notebook</a>'\n",
              "          + ' to learn more about interactive tables.';\n",
              "        element.innerHTML = '';\n",
              "        dataTable['output_type'] = 'display_data';\n",
              "        await google.colab.output.renderOutput(dataTable, element);\n",
              "        const docLink = document.createElement('div');\n",
              "        docLink.innerHTML = docLinkHtml;\n",
              "        element.appendChild(docLink);\n",
              "      }\n",
              "    </script>\n",
              "  </div>\n",
              "\n",
              "\n",
              "<div id=\"df-b6d13cef-155d-4973-ac59-375ac4d3e834\">\n",
              "  <button class=\"colab-df-quickchart\" onclick=\"quickchart('df-b6d13cef-155d-4973-ac59-375ac4d3e834')\"\n",
              "            title=\"Suggest charts\"\n",
              "            style=\"display:none;\">\n",
              "\n",
              "<svg xmlns=\"http://www.w3.org/2000/svg\" height=\"24px\"viewBox=\"0 0 24 24\"\n",
              "     width=\"24px\">\n",
              "    <g>\n",
              "        <path d=\"M19 3H5c-1.1 0-2 .9-2 2v14c0 1.1.9 2 2 2h14c1.1 0 2-.9 2-2V5c0-1.1-.9-2-2-2zM9 17H7v-7h2v7zm4 0h-2V7h2v10zm4 0h-2v-4h2v4z\"/>\n",
              "    </g>\n",
              "</svg>\n",
              "  </button>\n",
              "\n",
              "<style>\n",
              "  .colab-df-quickchart {\n",
              "      --bg-color: #E8F0FE;\n",
              "      --fill-color: #1967D2;\n",
              "      --hover-bg-color: #E2EBFA;\n",
              "      --hover-fill-color: #174EA6;\n",
              "      --disabled-fill-color: #AAA;\n",
              "      --disabled-bg-color: #DDD;\n",
              "  }\n",
              "\n",
              "  [theme=dark] .colab-df-quickchart {\n",
              "      --bg-color: #3B4455;\n",
              "      --fill-color: #D2E3FC;\n",
              "      --hover-bg-color: #434B5C;\n",
              "      --hover-fill-color: #FFFFFF;\n",
              "      --disabled-bg-color: #3B4455;\n",
              "      --disabled-fill-color: #666;\n",
              "  }\n",
              "\n",
              "  .colab-df-quickchart {\n",
              "    background-color: var(--bg-color);\n",
              "    border: none;\n",
              "    border-radius: 50%;\n",
              "    cursor: pointer;\n",
              "    display: none;\n",
              "    fill: var(--fill-color);\n",
              "    height: 32px;\n",
              "    padding: 0;\n",
              "    width: 32px;\n",
              "  }\n",
              "\n",
              "  .colab-df-quickchart:hover {\n",
              "    background-color: var(--hover-bg-color);\n",
              "    box-shadow: 0 1px 2px rgba(60, 64, 67, 0.3), 0 1px 3px 1px rgba(60, 64, 67, 0.15);\n",
              "    fill: var(--button-hover-fill-color);\n",
              "  }\n",
              "\n",
              "  .colab-df-quickchart-complete:disabled,\n",
              "  .colab-df-quickchart-complete:disabled:hover {\n",
              "    background-color: var(--disabled-bg-color);\n",
              "    fill: var(--disabled-fill-color);\n",
              "    box-shadow: none;\n",
              "  }\n",
              "\n",
              "  .colab-df-spinner {\n",
              "    border: 2px solid var(--fill-color);\n",
              "    border-color: transparent;\n",
              "    border-bottom-color: var(--fill-color);\n",
              "    animation:\n",
              "      spin 1s steps(1) infinite;\n",
              "  }\n",
              "\n",
              "  @keyframes spin {\n",
              "    0% {\n",
              "      border-color: transparent;\n",
              "      border-bottom-color: var(--fill-color);\n",
              "      border-left-color: var(--fill-color);\n",
              "    }\n",
              "    20% {\n",
              "      border-color: transparent;\n",
              "      border-left-color: var(--fill-color);\n",
              "      border-top-color: var(--fill-color);\n",
              "    }\n",
              "    30% {\n",
              "      border-color: transparent;\n",
              "      border-left-color: var(--fill-color);\n",
              "      border-top-color: var(--fill-color);\n",
              "      border-right-color: var(--fill-color);\n",
              "    }\n",
              "    40% {\n",
              "      border-color: transparent;\n",
              "      border-right-color: var(--fill-color);\n",
              "      border-top-color: var(--fill-color);\n",
              "    }\n",
              "    60% {\n",
              "      border-color: transparent;\n",
              "      border-right-color: var(--fill-color);\n",
              "    }\n",
              "    80% {\n",
              "      border-color: transparent;\n",
              "      border-right-color: var(--fill-color);\n",
              "      border-bottom-color: var(--fill-color);\n",
              "    }\n",
              "    90% {\n",
              "      border-color: transparent;\n",
              "      border-bottom-color: var(--fill-color);\n",
              "    }\n",
              "  }\n",
              "</style>\n",
              "\n",
              "  <script>\n",
              "    async function quickchart(key) {\n",
              "      const quickchartButtonEl =\n",
              "        document.querySelector('#' + key + ' button');\n",
              "      quickchartButtonEl.disabled = true;  // To prevent multiple clicks.\n",
              "      quickchartButtonEl.classList.add('colab-df-spinner');\n",
              "      try {\n",
              "        const charts = await google.colab.kernel.invokeFunction(\n",
              "            'suggestCharts', [key], {});\n",
              "      } catch (error) {\n",
              "        console.error('Error during call to suggestCharts:', error);\n",
              "      }\n",
              "      quickchartButtonEl.classList.remove('colab-df-spinner');\n",
              "      quickchartButtonEl.classList.add('colab-df-quickchart-complete');\n",
              "    }\n",
              "    (() => {\n",
              "      let quickchartButtonEl =\n",
              "        document.querySelector('#df-b6d13cef-155d-4973-ac59-375ac4d3e834 button');\n",
              "      quickchartButtonEl.style.display =\n",
              "        google.colab.kernel.accessAllowed ? 'block' : 'none';\n",
              "    })();\n",
              "  </script>\n",
              "</div>\n",
              "\n",
              "  <div id=\"id_fa018c3d-a407-4075-81d4-1c05323836af\">\n",
              "    <style>\n",
              "      .colab-df-generate {\n",
              "        background-color: #E8F0FE;\n",
              "        border: none;\n",
              "        border-radius: 50%;\n",
              "        cursor: pointer;\n",
              "        display: none;\n",
              "        fill: #1967D2;\n",
              "        height: 32px;\n",
              "        padding: 0 0 0 0;\n",
              "        width: 32px;\n",
              "      }\n",
              "\n",
              "      .colab-df-generate:hover {\n",
              "        background-color: #E2EBFA;\n",
              "        box-shadow: 0px 1px 2px rgba(60, 64, 67, 0.3), 0px 1px 3px 1px rgba(60, 64, 67, 0.15);\n",
              "        fill: #174EA6;\n",
              "      }\n",
              "\n",
              "      [theme=dark] .colab-df-generate {\n",
              "        background-color: #3B4455;\n",
              "        fill: #D2E3FC;\n",
              "      }\n",
              "\n",
              "      [theme=dark] .colab-df-generate:hover {\n",
              "        background-color: #434B5C;\n",
              "        box-shadow: 0px 1px 3px 1px rgba(0, 0, 0, 0.15);\n",
              "        filter: drop-shadow(0px 1px 2px rgba(0, 0, 0, 0.3));\n",
              "        fill: #FFFFFF;\n",
              "      }\n",
              "    </style>\n",
              "    <button class=\"colab-df-generate\" onclick=\"generateWithVariable('outliers_area')\"\n",
              "            title=\"Generate code using this dataframe.\"\n",
              "            style=\"display:none;\">\n",
              "\n",
              "  <svg xmlns=\"http://www.w3.org/2000/svg\" height=\"24px\"viewBox=\"0 0 24 24\"\n",
              "       width=\"24px\">\n",
              "    <path d=\"M7,19H8.4L18.45,9,17,7.55,7,17.6ZM5,21V16.75L18.45,3.32a2,2,0,0,1,2.83,0l1.4,1.43a1.91,1.91,0,0,1,.58,1.4,1.91,1.91,0,0,1-.58,1.4L9.25,21ZM18.45,9,17,7.55Zm-12,3A5.31,5.31,0,0,0,4.9,8.1,5.31,5.31,0,0,0,1,6.5,5.31,5.31,0,0,0,4.9,4.9,5.31,5.31,0,0,0,6.5,1,5.31,5.31,0,0,0,8.1,4.9,5.31,5.31,0,0,0,12,6.5,5.46,5.46,0,0,0,6.5,12Z\"/>\n",
              "  </svg>\n",
              "    </button>\n",
              "    <script>\n",
              "      (() => {\n",
              "      const buttonEl =\n",
              "        document.querySelector('#id_fa018c3d-a407-4075-81d4-1c05323836af button.colab-df-generate');\n",
              "      buttonEl.style.display =\n",
              "        google.colab.kernel.accessAllowed ? 'block' : 'none';\n",
              "\n",
              "      buttonEl.onclick = () => {\n",
              "        google.colab.notebook.generateWithVariable('outliers_area');\n",
              "      }\n",
              "      })();\n",
              "    </script>\n",
              "  </div>\n",
              "\n",
              "    </div>\n",
              "  </div>\n"
            ]
          },
          "metadata": {},
          "execution_count": 26
        }
      ]
    },
    {
      "cell_type": "code",
      "source": [
        "plt.boxplot(df['parking'])\n",
        "plt.title(\"Detecting presnce of Outliers\")\n",
        "plt.xlabel(\"Parking\")\n",
        "plt.ylabel(\"Price\")"
      ],
      "metadata": {
        "colab": {
          "base_uri": "https://localhost:8080/",
          "height": 489
        },
        "id": "Mlt31S9kFIBC",
        "outputId": "605fa7a5-2f7c-4fd6-cc90-114c76fecd5a"
      },
      "execution_count": null,
      "outputs": [
        {
          "output_type": "execute_result",
          "data": {
            "text/plain": [
              "Text(0, 0.5, 'Price')"
            ]
          },
          "metadata": {},
          "execution_count": 27
        },
        {
          "output_type": "display_data",
          "data": {
            "text/plain": [
              "<Figure size 640x480 with 1 Axes>"
            ],
            "image/png": "[encoded data removed]"
          },
          "metadata": {}
        }
      ]
    },
    {
      "cell_type": "markdown",
      "source": [
        "insight: area,stories,bedroom,bathroom and parking has outliers while mainroad,guestroom, basement,airconditioning,waterheater,prefered area and finishing staus dont have outliers because they are not an integer rather an object"
      ],
      "metadata": {
        "id": "qFOsvOCMF4Pw"
      }
    },
    {
      "cell_type": "markdown",
      "source": [
        "># EDA: Data Exploratory Analysis"
      ],
      "metadata": {
        "id": "mdO7sZW6HsFr"
      }
    },
    {
      "cell_type": "code",
      "source": [
        "df.columns"
      ],
      "metadata": {
        "colab": {
          "base_uri": "https://localhost:8080/"
        },
        "id": "UFZYUKiZFn1F",
        "outputId": "200ddc78-909e-414b-b9f3-6156864cecdd"
      },
      "execution_count": null,
      "outputs": [
        {
          "output_type": "execute_result",
          "data": {
            "text/plain": [
              "Index(['price', 'area', 'bedrooms', 'bathrooms', 'stories', 'mainroad',\n",
              "       'guestroom', 'basement', 'hotwaterheating', 'airconditioning',\n",
              "       'parking', 'prefarea', 'furnishingstatus'],\n",
              "      dtype='object')"
            ]
          },
          "metadata": {},
          "execution_count": 28
        }
      ]
    },
    {
      "cell_type": "code",
      "source": [
        "data = df"
      ],
      "metadata": {
        "id": "DsrPCY1GG3Db"
      },
      "execution_count": null,
      "outputs": []
    },
    {
      "cell_type": "code",
      "source": [
        "df.describe()"
      ],
      "metadata": {
        "colab": {
          "base_uri": "https://localhost:8080/",
          "height": 300
        },
        "id": "4EhQqPwwG6q_",
        "outputId": "9c433068-7449-4ce0-9859-351f79e83bd7"
      },
      "execution_count": null,
      "outputs": [
        {
          "output_type": "execute_result",
          "data": {
            "text/plain": [
              "              price          area    bedrooms   bathrooms     stories  \\\n",
              "count  5.450000e+02    545.000000  545.000000  545.000000  545.000000   \n",
              "mean   4.766729e+06   5150.541284    2.965138    1.286239    1.805505   \n",
              "std    1.870440e+06   2170.141023    0.738064    0.502470    0.867492   \n",
              "min    1.750000e+06   1650.000000    1.000000    1.000000    1.000000   \n",
              "25%    3.430000e+06   3600.000000    2.000000    1.000000    1.000000   \n",
              "50%    4.340000e+06   4600.000000    3.000000    1.000000    2.000000   \n",
              "75%    5.740000e+06   6360.000000    3.000000    2.000000    2.000000   \n",
              "max    1.330000e+07  16200.000000    6.000000    4.000000    4.000000   \n",
              "\n",
              "          parking  \n",
              "count  545.000000  \n",
              "mean     0.693578  \n",
              "std      0.861586  \n",
              "min      0.000000  \n",
              "25%      0.000000  \n",
              "50%      0.000000  \n",
              "75%      1.000000  \n",
              "max      3.000000  "
            ],
            "text/html": [
              "\n",
              "  <div id=\"df-920645bc-c69c-4482-b9aa-b419a5fb97ff\" class=\"colab-df-container\">\n",
              "    <div>\n",
              "<style scoped>\n",
              "    .dataframe tbody tr th:only-of-type {\n",
              "        vertical-align: middle;\n",
              "    }\n",
              "\n",
              "    .dataframe tbody tr th {\n",
              "        vertical-align: top;\n",
              "    }\n",
              "\n",
              "    .dataframe thead th {\n",
              "        text-align: right;\n",
              "    }\n",
              "</style>\n",
              "<table border=\"1\" class=\"dataframe\">\n",
              "  <thead>\n",
              "    <tr style=\"text-align: right;\">\n",
              "      <th></th>\n",
              "      <th>price</th>\n",
              "      <th>area</th>\n",
              "      <th>bedrooms</th>\n",
              "      <th>bathrooms</th>\n",
              "      <th>stories</th>\n",
              "      <th>parking</th>\n",
              "    </tr>\n",
              "  </thead>\n",
              "  <tbody>\n",
              "    <tr>\n",
              "      <th>count</th>\n",
              "      <td>5.450000e+02</td>\n",
              "      <td>545.000000</td>\n",
              "      <td>545.000000</td>\n",
              "      <td>545.000000</td>\n",
              "      <td>545.000000</td>\n",
              "      <td>545.000000</td>\n",
              "    </tr>\n",
              "    <tr>\n",
              "      <th>mean</th>\n",
              "      <td>4.766729e+06</td>\n",
              "      <td>5150.541284</td>\n",
              "      <td>2.965138</td>\n",
              "      <td>1.286239</td>\n",
              "      <td>1.805505</td>\n",
              "      <td>0.693578</td>\n",
              "    </tr>\n",
              "    <tr>\n",
              "      <th>std</th>\n",
              "      <td>1.870440e+06</td>\n",
              "      <td>2170.141023</td>\n",
              "      <td>0.738064</td>\n",
              "      <td>0.502470</td>\n",
              "      <td>0.867492</td>\n",
              "      <td>0.861586</td>\n",
              "    </tr>\n",
              "    <tr>\n",
              "      <th>min</th>\n",
              "      <td>1.750000e+06</td>\n",
              "      <td>1650.000000</td>\n",
              "      <td>1.000000</td>\n",
              "      <td>1.000000</td>\n",
              "      <td>1.000000</td>\n",
              "      <td>0.000000</td>\n",
              "    </tr>\n",
              "    <tr>\n",
              "      <th>25%</th>\n",
              "      <td>3.430000e+06</td>\n",
              "      <td>3600.000000</td>\n",
              "      <td>2.000000</td>\n",
              "      <td>1.000000</td>\n",
              "      <td>1.000000</td>\n",
              "      <td>0.000000</td>\n",
              "    </tr>\n",
              "    <tr>\n",
              "      <th>50%</th>\n",
              "      <td>4.340000e+06</td>\n",
              "      <td>4600.000000</td>\n",
              "      <td>3.000000</td>\n",
              "      <td>1.000000</td>\n",
              "      <td>2.000000</td>\n",
              "      <td>0.000000</td>\n",
              "    </tr>\n",
              "    <tr>\n",
              "      <th>75%</th>\n",
              "      <td>5.740000e+06</td>\n",
              "      <td>6360.000000</td>\n",
              "      <td>3.000000</td>\n",
              "      <td>2.000000</td>\n",
              "      <td>2.000000</td>\n",
              "      <td>1.000000</td>\n",
              "    </tr>\n",
              "    <tr>\n",
              "      <th>max</th>\n",
              "      <td>1.330000e+07</td>\n",
              "      <td>16200.000000</td>\n",
              "      <td>6.000000</td>\n",
              "      <td>4.000000</td>\n",
              "      <td>4.000000</td>\n",
              "      <td>3.000000</td>\n",
              "    </tr>\n",
              "  </tbody>\n",
              "</table>\n",
              "</div>\n",
              "    <div class=\"colab-df-buttons\">\n",
              "\n",
              "  <div class=\"colab-df-container\">\n",
              "    <button class=\"colab-df-convert\" onclick=\"convertToInteractive('df-920645bc-c69c-4482-b9aa-b419a5fb97ff')\"\n",
              "            title=\"Convert this dataframe to an interactive table.\"\n",
              "            style=\"display:none;\">\n",
              "\n",
              "  <svg xmlns=\"http://www.w3.org/2000/svg\" height=\"24px\" viewBox=\"0 -960 960 960\">\n",
              "    <path d=\"M120-120v-720h720v720H120Zm60-500h600v-160H180v160Zm220 220h160v-160H400v160Zm0 220h160v-160H400v160ZM180-400h160v-160H180v160Zm440 0h160v-160H620v160ZM180-180h160v-160H180v160Zm440 0h160v-160H620v160Z\"/>\n",
              "  </svg>\n",
              "    </button>\n",
              "\n",
              "  <style>\n",
              "    .colab-df-container {\n",
              "      display:flex;\n",
              "      gap: 12px;\n",
              "    }\n",
              "\n",
              "    .colab-df-convert {\n",
              "      background-color: #E8F0FE;\n",
              "      border: none;\n",
              "      border-radius: 50%;\n",
              "      cursor: pointer;\n",
              "      display: none;\n",
              "      fill: #1967D2;\n",
              "      height: 32px;\n",
              "      padding: 0 0 0 0;\n",
              "      width: 32px;\n",
              "    }\n",
              "\n",
              "    .colab-df-convert:hover {\n",
              "      background-color: #E2EBFA;\n",
              "      box-shadow: 0px 1px 2px rgba(60, 64, 67, 0.3), 0px 1px 3px 1px rgba(60, 64, 67, 0.15);\n",
              "      fill: #174EA6;\n",
              "    }\n",
              "\n",
              "    .colab-df-buttons div {\n",
              "      margin-bottom: 4px;\n",
              "    }\n",
              "\n",
              "    [theme=dark] .colab-df-convert {\n",
              "      background-color: #3B4455;\n",
              "      fill: #D2E3FC;\n",
              "    }\n",
              "\n",
              "    [theme=dark] .colab-df-convert:hover {\n",
              "      background-color: #434B5C;\n",
              "      box-shadow: 0px 1px 3px 1px rgba(0, 0, 0, 0.15);\n",
              "      filter: drop-shadow(0px 1px 2px rgba(0, 0, 0, 0.3));\n",
              "      fill: #FFFFFF;\n",
              "    }\n",
              "  </style>\n",
              "\n",
              "    <script>\n",
              "      const buttonEl =\n",
              "        document.querySelector('#df-920645bc-c69c-4482-b9aa-b419a5fb97ff button.colab-df-convert');\n",
              "      buttonEl.style.display =\n",
              "        google.colab.kernel.accessAllowed ? 'block' : 'none';\n",
              "\n",
              "      async function convertToInteractive(key) {\n",
              "        const element = document.querySelector('#df-920645bc-c69c-4482-b9aa-b419a5fb97ff');\n",
              "        const dataTable =\n",
              "          await google.colab.kernel.invokeFunction('convertToInteractive',\n",
              "                                                    [key], {});\n",
              "        if (!dataTable) return;\n",
              "\n",
              "        const docLinkHtml = 'Like what you see? Visit the ' +\n",
              "          '<a target=\"_blank\" href=https://colab.research.google.com/notebooks/data_table.ipynb>data table notebook</a>'\n",
              "          + ' to learn more about interactive tables.';\n",
              "        element.innerHTML = '';\n",
              "        dataTable['output_type'] = 'display_data';\n",
              "        await google.colab.output.renderOutput(dataTable, element);\n",
              "        const docLink = document.createElement('div');\n",
              "        docLink.innerHTML = docLinkHtml;\n",
              "        element.appendChild(docLink);\n",
              "      }\n",
              "    </script>\n",
              "  </div>\n",
              "\n",
              "\n",
              "<div id=\"df-b80a2283-d668-4b44-b961-cb5b085a35e6\">\n",
              "  <button class=\"colab-df-quickchart\" onclick=\"quickchart('df-b80a2283-d668-4b44-b961-cb5b085a35e6')\"\n",
              "            title=\"Suggest charts\"\n",
              "            style=\"display:none;\">\n",
              "\n",
              "<svg xmlns=\"http://www.w3.org/2000/svg\" height=\"24px\"viewBox=\"0 0 24 24\"\n",
              "     width=\"24px\">\n",
              "    <g>\n",
              "        <path d=\"M19 3H5c-1.1 0-2 .9-2 2v14c0 1.1.9 2 2 2h14c1.1 0 2-.9 2-2V5c0-1.1-.9-2-2-2zM9 17H7v-7h2v7zm4 0h-2V7h2v10zm4 0h-2v-4h2v4z\"/>\n",
              "    </g>\n",
              "</svg>\n",
              "  </button>\n",
              "\n",
              "<style>\n",
              "  .colab-df-quickchart {\n",
              "      --bg-color: #E8F0FE;\n",
              "      --fill-color: #1967D2;\n",
              "      --hover-bg-color: #E2EBFA;\n",
              "      --hover-fill-color: #174EA6;\n",
              "      --disabled-fill-color: #AAA;\n",
              "      --disabled-bg-color: #DDD;\n",
              "  }\n",
              "\n",
              "  [theme=dark] .colab-df-quickchart {\n",
              "      --bg-color: #3B4455;\n",
              "      --fill-color: #D2E3FC;\n",
              "      --hover-bg-color: #434B5C;\n",
              "      --hover-fill-color: #FFFFFF;\n",
              "      --disabled-bg-color: #3B4455;\n",
              "      --disabled-fill-color: #666;\n",
              "  }\n",
              "\n",
              "  .colab-df-quickchart {\n",
              "    background-color: var(--bg-color);\n",
              "    border: none;\n",
              "    border-radius: 50%;\n",
              "    cursor: pointer;\n",
              "    display: none;\n",
              "    fill: var(--fill-color);\n",
              "    height: 32px;\n",
              "    padding: 0;\n",
              "    width: 32px;\n",
              "  }\n",
              "\n",
              "  .colab-df-quickchart:hover {\n",
              "    background-color: var(--hover-bg-color);\n",
              "    box-shadow: 0 1px 2px rgba(60, 64, 67, 0.3), 0 1px 3px 1px rgba(60, 64, 67, 0.15);\n",
              "    fill: var(--button-hover-fill-color);\n",
              "  }\n",
              "\n",
              "  .colab-df-quickchart-complete:disabled,\n",
              "  .colab-df-quickchart-complete:disabled:hover {\n",
              "    background-color: var(--disabled-bg-color);\n",
              "    fill: var(--disabled-fill-color);\n",
              "    box-shadow: none;\n",
              "  }\n",
              "\n",
              "  .colab-df-spinner {\n",
              "    border: 2px solid var(--fill-color);\n",
              "    border-color: transparent;\n",
              "    border-bottom-color: var(--fill-color);\n",
              "    animation:\n",
              "      spin 1s steps(1) infinite;\n",
              "  }\n",
              "\n",
              "  @keyframes spin {\n",
              "    0% {\n",
              "      border-color: transparent;\n",
              "      border-bottom-color: var(--fill-color);\n",
              "      border-left-color: var(--fill-color);\n",
              "    }\n",
              "    20% {\n",
              "      border-color: transparent;\n",
              "      border-left-color: var(--fill-color);\n",
              "      border-top-color: var(--fill-color);\n",
              "    }\n",
              "    30% {\n",
              "      border-color: transparent;\n",
              "      border-left-color: var(--fill-color);\n",
              "      border-top-color: var(--fill-color);\n",
              "      border-right-color: var(--fill-color);\n",
              "    }\n",
              "    40% {\n",
              "      border-color: transparent;\n",
              "      border-right-color: var(--fill-color);\n",
              "      border-top-color: var(--fill-color);\n",
              "    }\n",
              "    60% {\n",
              "      border-color: transparent;\n",
              "      border-right-color: var(--fill-color);\n",
              "    }\n",
              "    80% {\n",
              "      border-color: transparent;\n",
              "      border-right-color: var(--fill-color);\n",
              "      border-bottom-color: var(--fill-color);\n",
              "    }\n",
              "    90% {\n",
              "      border-color: transparent;\n",
              "      border-bottom-color: var(--fill-color);\n",
              "    }\n",
              "  }\n",
              "</style>\n",
              "\n",
              "  <script>\n",
              "    async function quickchart(key) {\n",
              "      const quickchartButtonEl =\n",
              "        document.querySelector('#' + key + ' button');\n",
              "      quickchartButtonEl.disabled = true;  // To prevent multiple clicks.\n",
              "      quickchartButtonEl.classList.add('colab-df-spinner');\n",
              "      try {\n",
              "        const charts = await google.colab.kernel.invokeFunction(\n",
              "            'suggestCharts', [key], {});\n",
              "      } catch (error) {\n",
              "        console.error('Error during call to suggestCharts:', error);\n",
              "      }\n",
              "      quickchartButtonEl.classList.remove('colab-df-spinner');\n",
              "      quickchartButtonEl.classList.add('colab-df-quickchart-complete');\n",
              "    }\n",
              "    (() => {\n",
              "      let quickchartButtonEl =\n",
              "        document.querySelector('#df-b80a2283-d668-4b44-b961-cb5b085a35e6 button');\n",
              "      quickchartButtonEl.style.display =\n",
              "        google.colab.kernel.accessAllowed ? 'block' : 'none';\n",
              "    })();\n",
              "  </script>\n",
              "</div>\n",
              "\n",
              "    </div>\n",
              "  </div>\n"
            ]
          },
          "metadata": {},
          "execution_count": 30
        }
      ]
    },
    {
      "cell_type": "markdown",
      "source": [
        "insight: the total count is 5.450000e+02 the mean/average arae is 5150.541284 and its lowest/minimumminima area is 1650.000000 the mean/average bedrooms is 1.286239 and it lowest/minimum bedroom is 1.000000 the mean/average number of stories is 1.805505 while the lowest is 1.000000. finally, the average/mean of the parking is\t0.693578 while its minimum is 0"
      ],
      "metadata": {
        "id": "4hml9jiPIBDA"
      }
    },
    {
      "cell_type": "code",
      "source": [
        "df_numerical = df[[\"price\",\"area\",\"bedrooms\",\"bathrooms\",\"stories\",\"parking\"]]"
      ],
      "metadata": {
        "id": "mN1zuoG3H8oJ"
      },
      "execution_count": null,
      "outputs": []
    },
    {
      "cell_type": "code",
      "source": [
        "sns.heatmap(df_numerical.corr(),annot = True)"
      ],
      "metadata": {
        "colab": {
          "base_uri": "https://localhost:8080/",
          "height": 513
        },
        "id": "Vi7iotvOKAIY",
        "outputId": "06b064db-b300-4f0c-8ddd-45b289e00c91"
      },
      "execution_count": null,
      "outputs": [
        {
          "output_type": "execute_result",
          "data": {
            "text/plain": [
              "<Axes: >"
            ]
          },
          "metadata": {},
          "execution_count": 33
        },
        {
          "output_type": "display_data",
          "data": {
            "text/plain": [
              "<Figure size 640x480 with 2 Axes>"
            ],
            "image/png": "[encoded data removed]"
          },
          "metadata": {}
        }
      ]
    },
    {
      "cell_type": "markdown",
      "source": [
        "Insight: the dataset don't have slightly strong correlations"
      ],
      "metadata": {
        "id": "yigkBgwLKZbR"
      }
    },
    {
      "cell_type": "code",
      "source": [
        "sns.barplot(x ='bedrooms', y=\"price\", data =df, color = \"purple\")\n",
        "plt.xlabel('Bedrooms')\n",
        "plt.ylabel(\"Price\")\n",
        "plt.title(\"price vs Bedroom\")\n",
        "plt.show()"
      ],
      "metadata": {
        "colab": {
          "base_uri": "https://localhost:8080/",
          "height": 472
        },
        "id": "1ILbiltfKLBJ",
        "outputId": "b690afee-74a1-4c6b-bb6f-78751fdae02d"
      },
      "execution_count": null,
      "outputs": [
        {
          "output_type": "display_data",
          "data": {
            "text/plain": [
              "<Figure size 640x480 with 1 Axes>"
            ],
            "image/png": "[encoded data removed]"
          },
          "metadata": {}
        }
      ]
    },
    {
      "cell_type": "markdown",
      "source": [
        "Insight: there is significant increase in price based on the number of rooms"
      ],
      "metadata": {
        "id": "UPo2k0N6Lxhm"
      }
    },
    {
      "cell_type": "code",
      "source": [
        "plt.plot('area','price', data =df, linestyle ='none', marker ='o', color = \"purple\")\n",
        "plt.xlabel('Area')\n",
        "plt.ylabel(\"Price\")\n",
        "plt.title(\"Price vs Area\")\n",
        "plt.show()"
      ],
      "metadata": {
        "colab": {
          "base_uri": "https://localhost:8080/",
          "height": 472
        },
        "id": "2vtZ5ND1K-rO",
        "outputId": "251ef49f-1fb8-4370-f5c3-fd4681870467"
      },
      "execution_count": null,
      "outputs": [
        {
          "output_type": "display_data",
          "data": {
            "text/plain": [
              "<Figure size 640x480 with 1 Axes>"
            ],
            "image/png": "[encoded data removed]"
          },
          "metadata": {}
        }
      ]
    },
    {
      "cell_type": "markdown",
      "source": [
        "insight: there is a strong relationship between price and area"
      ],
      "metadata": {
        "id": "XRuGCWpUNfnj"
      }
    },
    {
      "cell_type": "code",
      "source": [
        "sns.displot(data = df, x=\"price\", col =\"guestroom\", color = \"purple\", kde = True)\n",
        "plt.xlabel(\"Guestroom\")\n",
        "plt.suptitle(\"Distribution of Price by Guestroom\")\n",
        "plt.show()"
      ],
      "metadata": {
        "colab": {
          "base_uri": "https://localhost:8080/",
          "height": 512
        },
        "id": "DXhQT_ssMwfU",
        "outputId": "10f1cc24-121d-4687-f4a2-5464b13903f3"
      },
      "execution_count": null,
      "outputs": [
        {
          "output_type": "display_data",
          "data": {
            "text/plain": [
              "<Figure size 1000x500 with 2 Axes>"
            ],
            "image/png": "[encoded data removed]"
          },
          "metadata": {}
        }
      ]
    },
    {
      "cell_type": "markdown",
      "source": [
        "Insight: The available guestroom has lower price rate attached to it."
      ],
      "metadata": {
        "id": "kh0tHP4fS2jj"
      }
    },
    {
      "cell_type": "code",
      "source": [
        "sns.barplot(x=\"basement\", y=\"price\",color = \"purple\", data=df)\n",
        "plt.xlabel(\"Basement\")\n",
        "plt.ylabel(\"price\")\n",
        "plt.title(\"Price vs Basement\")\n",
        "plt.show()"
      ],
      "metadata": {
        "colab": {
          "base_uri": "https://localhost:8080/",
          "height": 472
        },
        "id": "39ZqU1hHSzsS",
        "outputId": "6139fc44-b437-48e3-c822-73ad1da1d513"
      },
      "execution_count": null,
      "outputs": [
        {
          "output_type": "display_data",
          "data": {
            "text/plain": [
              "<Figure size 640x480 with 1 Axes>"
            ],
            "image/png": "[encoded data removed]"
          },
          "metadata": {}
        }
      ]
    },
    {
      "cell_type": "markdown",
      "source": [
        "Insight: The higher the price the higher the basement"
      ],
      "metadata": {
        "id": "94rkQUnYVBCw"
      }
    },
    {
      "cell_type": "code",
      "source": [
        "sns.jointplot(x=df[\"airconditioning\"], y=df[\"price\"], kind=\"scatter\", color=\"purple\")"
      ],
      "metadata": {
        "colab": {
          "base_uri": "https://localhost:8080/",
          "height": 624
        },
        "id": "ZCGmro0UU2Vn",
        "outputId": "48cd52a8-00bd-4a5f-ab91-44d6cb4f8861"
      },
      "execution_count": null,
      "outputs": [
        {
          "output_type": "execute_result",
          "data": {
            "text/plain": [
              "<seaborn.axisgrid.JointGrid at 0x7ceb6a4c2290>"
            ]
          },
          "metadata": {},
          "execution_count": 53
        },
        {
          "output_type": "display_data",
          "data": {
            "text/plain": [
              "<Figure size 600x600 with 3 Axes>"
            ],
            "image/png": "[encoded data removed]"
          },
          "metadata": {}
        }
      ]
    },
    {
      "cell_type": "markdown",
      "source": [
        "Insight: The houses with Airconditioning has higher price"
      ],
      "metadata": {
        "id": "pHf88dtOZQOm"
      }
    },
    {
      "cell_type": "code",
      "source": [
        "plt.hist(df[\"price\"],color = \"purple\")\n",
        "plt.xlabel(\"Price\")\n",
        "plt.ylabel(\"Count\")\n",
        "plt.title(\"Distribution of Price\")"
      ],
      "metadata": {
        "colab": {
          "base_uri": "https://localhost:8080/",
          "height": 489
        },
        "id": "7sldQHxSVb-L",
        "outputId": "ca3efc7d-8b0e-4293-90b8-57e50ff06499"
      },
      "execution_count": null,
      "outputs": [
        {
          "output_type": "execute_result",
          "data": {
            "text/plain": [
              "Text(0.5, 1.0, 'Distribution of Price')"
            ]
          },
          "metadata": {},
          "execution_count": 55
        },
        {
          "output_type": "display_data",
          "data": {
            "text/plain": [
              "<Figure size 640x480 with 1 Axes>"
            ],
            "image/png": "[encoded data removed]"
          },
          "metadata": {}
        }
      ]
    },
    {
      "cell_type": "code",
      "source": [
        "sns.barplot(x='furnishingstatus', y='price', hue ='furnishingstatus', color = \"purple\", data =df)\n",
        "plt.xlabel('Furnishingstatus')\n",
        "plt.ylabel('Price')\n",
        "plt.title('Price Vs Furnishing Status')"
      ],
      "metadata": {
        "colab": {
          "base_uri": "https://localhost:8080/",
          "height": 576
        },
        "id": "_f0VLNzGZotV",
        "outputId": "58c386c3-a27b-4c74-f502-e65145b68870"
      },
      "execution_count": null,
      "outputs": [
        {
          "output_type": "stream",
          "name": "stderr",
          "text": [
            "<ipython-input-57-cdf1c72ee900>:1: FutureWarning: \n",
            "\n",
            "Setting a gradient palette using color= is deprecated and will be removed in v0.14.0. Set `palette='dark:purple'` for the same effect.\n",
            "\n",
            "  sns.barplot(x='furnishingstatus', y='price', hue ='furnishingstatus', color = \"purple\", data =df)\n"
          ]
        },
        {
          "output_type": "execute_result",
          "data": {
            "text/plain": [
              "Text(0.5, 1.0, 'Price Vs Furnishing Status')"
            ]
          },
          "metadata": {},
          "execution_count": 57
        },
        {
          "output_type": "display_data",
          "data": {
            "text/plain": [
              "<Figure size 640x480 with 1 Axes>"
            ],
            "image/png": "[encoded data removed]"
          },
          "metadata": {}
        }
      ]
    },
    {
      "cell_type": "markdown",
      "source": [
        "Insight: furnished houses are at higher price followed by semi- furnished and unfurnished house."
      ],
      "metadata": {
        "id": "FzOnyIovahBW"
      }
    },
    {
      "cell_type": "code",
      "source": [
        "prefarea = df[\"prefarea\"].value_counts()\n",
        "prefarea_color = [\"purple\", \"pink\"]\n",
        "color = sns.set_palette(prefarea_color)\n",
        "plt.pie(prefarea.values,colors =color, labels = prefarea.index,autopct = \"%1.1f%%\")\n",
        "plt.title(\"Preferred Area Distribution of the Dataset\")\n"
      ],
      "metadata": {
        "colab": {
          "base_uri": "https://localhost:8080/",
          "height": 445
        },
        "id": "Wp-Z9sG8aTRg",
        "outputId": "9dfc56ce-a437-4cc5-eb81-031521d1918c"
      },
      "execution_count": null,
      "outputs": [
        {
          "output_type": "execute_result",
          "data": {
            "text/plain": [
              "Text(0.5, 1.0, 'Preferred Area Distribution of the Dataset')"
            ]
          },
          "metadata": {},
          "execution_count": 67
        },
        {
          "output_type": "display_data",
          "data": {
            "text/plain": [
              "<Figure size 640x480 with 1 Axes>"
            ],
            "image/png": "[encoded data removed]"
          },
          "metadata": {}
        }
      ]
    },
    {
      "cell_type": "markdown",
      "source": [
        "Insight: people with prefered area is less than people with less preferred area."
      ],
      "metadata": {
        "id": "5ZUfJBbxdqE5"
      }
    },
    {
      "cell_type": "code",
      "source": [
        "sns.barplot(x='parking', y='price', color = \"purple\", data =df)\n",
        "plt.xlabel('parking')\n",
        "plt.ylabel('Price')\n",
        "plt.title('Price Paid by those with Parking space')\n",
        "plt.show()"
      ],
      "metadata": {
        "colab": {
          "base_uri": "https://localhost:8080/",
          "height": 472
        },
        "id": "trYC5Yl9e0RD",
        "outputId": "2725a633-b46c-42ad-9038-873e8b89661a"
      },
      "execution_count": null,
      "outputs": [
        {
          "output_type": "display_data",
          "data": {
            "text/plain": [
              "<Figure size 640x480 with 1 Axes>"
            ],
            "image/png": "[encoded data removed]"
          },
          "metadata": {}
        }
      ]
    },
    {
      "cell_type": "markdown",
      "source": [
        "Insight: there is no much difference in price of the house based on the number of parking space."
      ],
      "metadata": {
        "id": "RqKXRz7kgNTr"
      }
    },
    {
      "cell_type": "code",
      "source": [
        "sns.jointplot(x=df[\"mainroad\"], y=df[\"price\"], kind=\"scatter\", color=\"purple\")"
      ],
      "metadata": {
        "colab": {
          "base_uri": "https://localhost:8080/",
          "height": 624
        },
        "id": "haYGjLi2hHG4",
        "outputId": "4518ee62-e279-4df2-ce63-7eee27cb4ac6"
      },
      "execution_count": null,
      "outputs": [
        {
          "output_type": "execute_result",
          "data": {
            "text/plain": [
              "<seaborn.axisgrid.JointGrid at 0x7ceb6b300a00>"
            ]
          },
          "metadata": {},
          "execution_count": 64
        },
        {
          "output_type": "display_data",
          "data": {
            "text/plain": [
              "<Figure size 600x600 with 3 Axes>"
            ],
            "image/png": "[encoded data removed]"
          },
          "metadata": {}
        }
      ]
    },
    {
      "cell_type": "markdown",
      "source": [
        "Insight: Houseses with good road network/ main road has highers price comapre to those without mainraod"
      ],
      "metadata": {
        "id": "seqBSEUEhP8j"
      }
    },
    {
      "cell_type": "code",
      "source": [
        "sns.displot(df,x= df['bedrooms'], hue= df['stories'], kind= 'kde')\n",
        "plt.title(' Story buildings Vs Number of Bedrooms')\n",
        "plt.xlabel('Stories')\n",
        "plt.ylabel('Bedrooms')\n",
        "plt.show()"
      ],
      "metadata": {
        "colab": {
          "base_uri": "https://localhost:8080/",
          "height": 529
        },
        "id": "UZSXei9Vht4g",
        "outputId": "a10d85d6-29a5-4e82-a190-bbdbb6c2badb"
      },
      "execution_count": null,
      "outputs": [
        {
          "output_type": "display_data",
          "data": {
            "text/plain": [
              "<Figure size 558.875x500 with 1 Axes>"
            ],
            "image/png": "[encoded data removed]"
          },
          "metadata": {}
        }
      ]
    },
    {
      "cell_type": "markdown",
      "source": [
        "Insight: The number of bedrooms has nothing to do with the stories, from the displot above it shows that the rooms on 4 stories is has the least number of room while 2 story building has the highest number of room followed by 1 story and 3 stories"
      ],
      "metadata": {
        "id": "p26MYoO5iqNk"
      }
    },
    {
      "cell_type": "code",
      "source": [
        "plt.figure(figsize=(12, 8))\n",
        "pivot_df = df.pivot_table(index='stories', columns='bathrooms', aggfunc='size', fill_value=0)\n",
        "pivot_df.plot(kind='bar', stacked=True, figsize=(8, 4))\n",
        "plt.title('Bathroom Vs Stories')\n",
        "plt.xlabel('Stories')\n",
        "plt.ylabel('Count')\n",
        "plt.legend(title='Bathrooms')\n",
        "plt.xticks(rotation=45)\n",
        "plt.tight_layout()\n",
        "plt.show()"
      ],
      "metadata": {
        "colab": {
          "base_uri": "https://localhost:8080/",
          "height": 424
        },
        "id": "QR7ccpp4k8hf",
        "outputId": "d05f8d1d-a916-46b1-8921-86ebe554f6bc"
      },
      "execution_count": null,
      "outputs": [
        {
          "output_type": "display_data",
          "data": {
            "text/plain": [
              "<Figure size 1200x800 with 0 Axes>"
            ]
          },
          "metadata": {}
        },
        {
          "output_type": "display_data",
          "data": {
            "text/plain": [
              "<Figure size 800x400 with 1 Axes>"
            ],
            "image/png": "[encoded data removed]"
          },
          "metadata": {}
        }
      ]
    },
    {
      "cell_type": "code",
      "source": [
        "import seaborn as sns\n",
        "sns.countplot(x=\"bathrooms\", hue=\"stories\", data = df)\n",
        "plt.title(\"Bathrooms Vs Stories\")\n",
        "plt.xlabel(\"Stories\")\n",
        "plt.ylabel(\"Bathrooms\")\n",
        "plt.show()"
      ],
      "metadata": {
        "colab": {
          "base_uri": "https://localhost:8080/",
          "height": 472
        },
        "id": "LILfIuBYmz0V",
        "outputId": "3207d770-04d7-410f-8a40-a25829eb4ac9"
      },
      "execution_count": null,
      "outputs": [
        {
          "output_type": "display_data",
          "data": {
            "text/plain": [
              "<Figure size 640x480 with 1 Axes>"
            ],
            "image/png": "[encoded data removed]"
          },
          "metadata": {}
        }
      ]
    },
    {
      "cell_type": "markdown",
      "source": [
        "># Conclusion:"
      ],
      "metadata": {
        "id": "z03MrM2AeK6N"
      }
    },
    {
      "cell_type": "markdown",
      "source": [
        "># Recommendation:\n",
        "People should rent the houses based on their choices and what they can afford."
      ],
      "metadata": {
        "id": "Y857qLKseYLN"
      }
    },
    {
      "cell_type": "code",
      "source": [],
      "metadata": {
        "id": "SlT9x93geU6h"
      },
      "execution_count": null,
      "outputs": []
    }
  ]
}